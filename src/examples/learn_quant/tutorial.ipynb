{
 "cells": [
  {
   "cell_type": "code",
   "execution_count": 1,
   "metadata": {},
   "outputs": [],
   "source": [
    "%%capture\n",
    "\n",
    "%cd .."
   ]
  },
  {
   "cell_type": "markdown",
   "metadata": {},
   "source": [
    "## Introduction\n",
    "\n",
    "This notebook shows you how to utilize ALTK for generating a large number of quantifiers and measuring their monotonicity.\n",
    "\n",
    " First, let's familiarize ourselves with the classes used in this example, which are subclasses from classes in the ALTK package."
   ]
  },
  {
   "cell_type": "markdown",
   "metadata": {},
   "source": [
    "### QuantifierModel\n",
    "\n",
    "In this example, we'd like to create a large number of quantifiers that are modeled by the class `QuantifierModel`. As stated in the `meaning` module, a `QuantifierModel`, every quantifier model is a triple ** <M, A, B> **, where M corresponds to all possible quantifier referents for a given communicative situation, A and B are differents sets of quantifier referents that correspond to the items of comparison in quantificational logic.\n",
    "\n",
    "Let's begin by creating a simple QuantifierModel object. A QuantifierModel is initialized by defining a sequence of symbols that denote the set composition of each of `M`, `A`, and `B`. \n",
    "\n",
    "The definitions for each symbol are as follows:\n",
    "\n",
    "`0 => in A`\n",
    "\n",
    "`1 => in B`\n",
    "\n",
    "`2 => in (A | B)`\n",
    "\n",
    "`3 => in M - (A | B)`\n",
    "\n",
    "`4 => not in (M | A | B)`\n"
   ]
  },
  {
   "cell_type": "code",
   "execution_count": 2,
   "metadata": {},
   "outputs": [],
   "source": [
    "from learn_quant.quantifier import QuantifierModel\n",
    "\n",
    "qm = QuantifierModel(\"101234\")"
   ]
  },
  {
   "cell_type": "code",
   "execution_count": 3,
   "metadata": {},
   "outputs": [
    {
     "data": {
      "text/plain": [
       "QuantifierModel(name='101234', M=frozenset({0, 1, 2, 3, 4}), A=frozenset({1, 3}), B=frozenset({0, 2, 3}))"
      ]
     },
     "execution_count": 3,
     "metadata": {},
     "output_type": "execute_result"
    }
   ],
   "source": [
    "qm"
   ]
  },
  {
   "cell_type": "markdown",
   "metadata": {},
   "source": [
    "In the `QuantifierModel` instantiated above, we defined a string using only symbols 0 through 4, and the internal set representations were created in a `post_init` method. In the sequence \"101234\", the \"objects\" at the specified indices pertain to the sets as follows:\n",
    "0. M, B\n",
    "1. M, A\n",
    "2. M, B\n",
    "3. M, A, B\n",
    "4. M\n",
    "5. X (neither M, A, nor B)"
   ]
  },
  {
   "cell_type": "markdown",
   "metadata": {},
   "source": [
    "Notice that all sets are typed as `frozenset`s, as this allows for hashing and checking of QuantifierModels in Meaning objects that is required for subsequent routines. "
   ]
  },
  {
   "cell_type": "markdown",
   "metadata": {},
   "source": [
    "### Importing a `QuantifierGrammar`\n",
    "\n",
    "A QuantifierGrammar is a regular Grammar object, but allows for primitives representing integers to be added after a basic grammar has been loaded. This allows for integer primitives to be created on the fly during experiments of certain lengths (you usually would want to allow for primitives up until the length of the size of M, or all referents that are \"in play\"). "
   ]
  },
  {
   "cell_type": "code",
   "execution_count": 4,
   "metadata": {},
   "outputs": [],
   "source": [
    "from learn_quant.grammar import quantifiers_grammar"
   ]
  },
  {
   "cell_type": "markdown",
   "metadata": {},
   "source": [
    "You can iterate through the grammar to see what rules it contains:"
   ]
  },
  {
   "cell_type": "code",
   "execution_count": 37,
   "metadata": {},
   "outputs": [
    {
     "name": "stdout",
     "output_type": "stream",
     "text": [
      "and : bool -> and(bool, bool)\n",
      "or : bool -> or(bool, bool)\n",
      "not : bool -> not(bool)\n",
      "union : frozenset -> union(frozenset, frozenset)\n",
      "intersection : frozenset -> intersection(frozenset, frozenset)\n",
      "difference : frozenset -> difference(frozenset, frozenset)\n",
      "index : frozenset -> index(int, frozenset)\n",
      "cardinality : int -> cardinality(frozenset)\n",
      "subset_eq : bool -> subset_eq(frozenset, frozenset)\n",
      "equals : bool -> equals(int, int)\n",
      "greater_than : bool -> greater_than(int, int)\n",
      "A : frozenset -> A\n",
      "B : frozenset -> B\n"
     ]
    }
   ],
   "source": [
    "for rule in quantifiers_grammar:\n",
    "    print(rule[0], \":\", rule[1])"
   ]
  },
  {
   "cell_type": "markdown",
   "metadata": {},
   "source": [
    "To add primitives for integer indices, use the `add_indices_as_primitives` method on the `QuantifierGrammar` object by specifying either specific indices in a list, or an integer upper bound up until which primitive rules should be added:"
   ]
  },
  {
   "cell_type": "code",
   "execution_count": 36,
   "metadata": {},
   "outputs": [
    {
     "name": "stdout",
     "output_type": "stream",
     "text": [
      "and : bool -> and(bool, bool)\n",
      "or : bool -> or(bool, bool)\n",
      "not : bool -> not(bool)\n",
      "union : frozenset -> union(frozenset, frozenset)\n",
      "intersection : frozenset -> intersection(frozenset, frozenset)\n",
      "difference : frozenset -> difference(frozenset, frozenset)\n",
      "index : frozenset -> index(int, frozenset)\n",
      "cardinality : int -> cardinality(frozenset)\n",
      "subset_eq : bool -> subset_eq(frozenset, frozenset)\n",
      "equals : bool -> equals(int, int)\n",
      "greater_than : bool -> greater_than(int, int)\n",
      "A : frozenset -> A\n",
      "B : frozenset -> B\n",
      "0 : int -> 0\n",
      "1 : int -> 1\n",
      "2 : int -> 2\n",
      "3 : int -> 3\n"
     ]
    }
   ],
   "source": [
    "from copy import deepcopy\n",
    "new_grammar = deepcopy(quantifiers_grammar)\n",
    "new_grammar.add_indices_as_primitives([0,1,2,3], 6.0)\n",
    "for rule in new_grammar:\n",
    "    print(rule[0], \":\", rule[1])"
   ]
  },
  {
   "cell_type": "code",
   "execution_count": 33,
   "metadata": {},
   "outputs": [
    {
     "name": "stdout",
     "output_type": "stream",
     "text": [
      "and : bool -> and(bool, bool)\n",
      "or : bool -> or(bool, bool)\n",
      "not : bool -> not(bool)\n",
      "union : frozenset -> union(frozenset, frozenset)\n",
      "intersection : frozenset -> intersection(frozenset, frozenset)\n",
      "difference : frozenset -> difference(frozenset, frozenset)\n",
      "index : frozenset -> index(int, frozenset)\n",
      "cardinality : int -> cardinality(frozenset)\n",
      "subset_eq : bool -> subset_eq(frozenset, frozenset)\n",
      "equals : bool -> equals(int, int)\n",
      "greater_than : bool -> greater_than(int, int)\n",
      "A : frozenset -> A\n",
      "B : frozenset -> B\n",
      "0 : int -> 0\n",
      "1 : int -> 1\n",
      "2 : int -> 2\n",
      "3 : int -> 3\n"
     ]
    }
   ],
   "source": [
    "new_grammar = deepcopy(quantifiers_grammar)\n",
    "new_grammar.add_indices_as_primitives(4, 6.0)\n",
    "for rule in new_grammar:\n",
    "    print(rule[0], \":\", rule[1])"
   ]
  },
  {
   "cell_type": "markdown",
   "metadata": {},
   "source": [
    "The second argument defines a default weight to add to the integer primitives rules. These weights are relevant when generating a universe with a `Grammar`."
   ]
  },
  {
   "cell_type": "code",
   "execution_count": 19,
   "metadata": {},
   "outputs": [
    {
     "name": "stdout",
     "output_type": "stream",
     "text": [
      "and :\t\t 1.0\n",
      "or :\t\t 1.0\n",
      "not :\t\t 1.0\n",
      "union :\t\t 1.0\n",
      "intersection :\t\t 1.0\n",
      "difference :\t\t 1.0\n",
      "index :\t\t 1.0\n",
      "cardinality :\t\t 1.0\n",
      "subset_eq :\t\t 1.0\n",
      "equals :\t\t 1.0\n",
      "greater_than :\t\t 1.0\n",
      "A :\t\t 10.0\n",
      "B :\t\t 10.0\n",
      "2 :\t\t 12.0\n",
      "3 :\t\t 12.0\n"
     ]
    }
   ],
   "source": [
    "for rule in new_grammar:\n",
    "    print(rule[1].name, \":\\t\\t\", rule[1].weight)"
   ]
  },
  {
   "cell_type": "markdown",
   "metadata": {},
   "source": [
    "### Define a universe of referents.\n",
    "\n",
    "In this example, the function \"create_universe\" creates QuantifierModels, "
   ]
  },
  {
   "cell_type": "code",
   "execution_count": 20,
   "metadata": {},
   "outputs": [],
   "source": [
    "from learn_quant.meaning import create_universe"
   ]
  },
  {
   "cell_type": "code",
   "execution_count": 21,
   "metadata": {},
   "outputs": [],
   "source": [
    "quantifiers_universe = create_universe(M_SIZE=3,X_SIZE=4)"
   ]
  },
  {
   "cell_type": "code",
   "execution_count": 22,
   "metadata": {},
   "outputs": [
    {
     "name": "stdout",
     "output_type": "stream",
     "text": [
      "The size of the universe is 256\n"
     ]
    }
   ],
   "source": [
    "print(\"The size of the universe is {}\".format(len(quantifiers_universe)))"
   ]
  },
  {
   "cell_type": "markdown",
   "metadata": {},
   "source": [
    "Access the referents by refering to the `referents` property of the `QuantifierUniverse` object"
   ]
  },
  {
   "cell_type": "code",
   "execution_count": 23,
   "metadata": {},
   "outputs": [
    {
     "data": {
      "text/plain": [
       "[QuantifierModel(name='2403', M=frozenset({0, 2, 3}), A=frozenset({0, 2}), B=frozenset({0})),\n",
       " QuantifierModel(name='3324', M=frozenset({0, 1, 2}), A=frozenset({2}), B=frozenset({2})),\n",
       " QuantifierModel(name='4230', M=frozenset({1, 2, 3}), A=frozenset({1, 3}), B=frozenset({1})),\n",
       " QuantifierModel(name='2341', M=frozenset({0, 1, 3}), A=frozenset({0}), B=frozenset({0, 3})),\n",
       " QuantifierModel(name='0334', M=frozenset({0, 1, 2}), A=frozenset({0}), B=frozenset())]"
      ]
     },
     "execution_count": 23,
     "metadata": {},
     "output_type": "execute_result"
    }
   ],
   "source": [
    "quantifiers_universe.referents[0:5]"
   ]
  },
  {
   "cell_type": "markdown",
   "metadata": {},
   "source": [
    "You can access sizes of `X` and `M` in the QuantifierUniverse object:"
   ]
  },
  {
   "cell_type": "code",
   "execution_count": 24,
   "metadata": {},
   "outputs": [
    {
     "name": "stdout",
     "output_type": "stream",
     "text": [
      "4\n",
      "3\n"
     ]
    }
   ],
   "source": [
    "print(quantifiers_universe.x_size)\n",
    "print(quantifiers_universe.m_size)"
   ]
  },
  {
   "cell_type": "markdown",
   "metadata": {},
   "source": [
    "We created a universe with the number of indices in generated `QuantifierModel`s having 4 indices total, with up to 3 of those indices being considered for pertinence in A or B during the generative process. Therefor, in this example, `['1', '2', '0', '0']` would not be valid, since `M_SIZE` is only 3 and not 4. On the other hand, `['4', '2', '0', '0']` is OK, since the first index is in `X` but not `M`.\n",
    "\n",
    "Let's enumerate expressions that could be created with the Language of Thought described in the `QuantifierGrammar` we have previously defined.\n",
    "\n",
    "We'll enumerate expressions up to a depth of 4. Higher depth values allow for more complex expressions that depend on a greater number of rules."
   ]
  },
  {
   "cell_type": "code",
   "execution_count": 38,
   "metadata": {},
   "outputs": [],
   "source": [
    "from learn_quant.scripts.generate_expressions import enumerate_quantifiers\n",
    "expressions_by_meaning = enumerate_quantifiers(4, quantifiers_universe, new_grammar)"
   ]
  },
  {
   "cell_type": "markdown",
   "metadata": {},
   "source": [
    "Let's save the quantifiers generated in this enumeration process."
   ]
  },
  {
   "cell_type": "code",
   "execution_count": 39,
   "metadata": {},
   "outputs": [],
   "source": [
    "from learn_quant.scripts.generate_expressions import save_quantifiers\n",
    "save_quantifiers(expressions_by_meaning, out_path=\"learn_quant/outputs/generated_expressions.yml\")"
   ]
  },
  {
   "cell_type": "markdown",
   "metadata": {},
   "source": [
    "We can load-in the expressions we just saved in the YAML file we produced in the code block above (provided we also provide the load function a relevant universe of analysis):"
   ]
  },
  {
   "cell_type": "code",
   "execution_count": 44,
   "metadata": {},
   "outputs": [],
   "source": [
    "from learn_quant.util import read_expressions"
   ]
  },
  {
   "cell_type": "code",
   "execution_count": 45,
   "metadata": {},
   "outputs": [],
   "source": [
    "expressions, _ = read_expressions(\"learn_quant/outputs/generated_expressions.yml\", quantifiers_universe)"
   ]
  },
  {
   "cell_type": "markdown",
   "metadata": {},
   "source": [
    "We get a object that pairs grammatical expressions with their respective `Meaning` objects, which are lists of licensed `QuantifierModels` (<M, A, B>) for that particular expression, given the universe in scope."
   ]
  },
  {
   "cell_type": "code",
   "execution_count": 46,
   "metadata": {},
   "outputs": [
    {
     "name": "stdout",
     "output_type": "stream",
     "text": [
      "792\n"
     ]
    }
   ],
   "source": [
    "print(len(expressions))"
   ]
  },
  {
   "cell_type": "code",
   "execution_count": 47,
   "metadata": {},
   "outputs": [
    {
     "data": {
      "text/plain": [
       "{'form': '',\n",
       " 'meaning': <altk.language.semantics.Meaning at 0x1530fa1d0>,\n",
       " 'rule_name': 'subset_eq',\n",
       " 'func': <function altk.language.grammar.<lambda>(s1, s2)>,\n",
       " 'children': (<altk.language.grammar.GrammaticalExpression at 0x15279c050>,\n",
       "  <altk.language.grammar.GrammaticalExpression at 0x15279c350>)}"
      ]
     },
     "execution_count": 47,
     "metadata": {},
     "output_type": "execute_result"
    }
   ],
   "source": [
    "expressions[0].__dict__"
   ]
  },
  {
   "cell_type": "markdown",
   "metadata": {},
   "source": [
    "Every expression object contains a `Meaning` that contains a list of referents that the expression verifies. "
   ]
  },
  {
   "cell_type": "code",
   "execution_count": 31,
   "metadata": {},
   "outputs": [
    {
     "name": "stdout",
     "output_type": "stream",
     "text": [
      "subset_eq(A, A)\n"
     ]
    }
   ],
   "source": [
    "print(expressions[0])"
   ]
  },
  {
   "cell_type": "code",
   "execution_count": 54,
   "metadata": {},
   "outputs": [
    {
     "name": "stdout",
     "output_type": "stream",
     "text": [
      "256\n"
     ]
    }
   ],
   "source": [
    "print(len(expressions[0].meaning.referents))"
   ]
  },
  {
   "cell_type": "markdown",
   "metadata": {},
   "source": [
    "## Measuring Monotonicity"
   ]
  },
  {
   "cell_type": "code",
   "execution_count": 42,
   "metadata": {},
   "outputs": [],
   "source": [
    "import numpy as np\n",
    "from learn_quant.measures import MonotonicityMeasurer"
   ]
  },
  {
   "cell_type": "markdown",
   "metadata": {},
   "source": [
    "The expressions in the enumeration process vary in their degree of monotonicity. We can measure the monotonicity of an expression with the `measures` module.  "
   ]
  },
  {
   "cell_type": "code",
   "execution_count": 48,
   "metadata": {},
   "outputs": [
    {
     "name": "stdout",
     "output_type": "stream",
     "text": [
      "Calculating monotonicity for:  subset_eq(A, A)\n",
      "Calculating monotonicity for:  subset_eq(A, B)\n",
      "Calculating monotonicity for:  subset_eq(B, A)\n",
      "Calculating monotonicity for:  and(subset_eq(A, B), subset_eq(B, A))\n",
      "Calculating monotonicity for:  or(subset_eq(A, B), subset_eq(B, A))\n",
      "Calculating monotonicity for:  not(subset_eq(A, B))\n",
      "Calculating monotonicity for:  not(subset_eq(B, A))\n",
      "Calculating monotonicity for:  equals(0, cardinality(A))\n",
      "Calculating monotonicity for:  subset_eq(A, difference(A, B))\n",
      "Calculating monotonicity for:  subset_eq(A, index(1, B))\n",
      "Calculating monotonicity for:  equals(0, cardinality(B))\n",
      "Calculating monotonicity for:  subset_eq(B, index(1, A))\n",
      "Calculating monotonicity for:  subset_eq(index(1, A), B)\n",
      "Calculating monotonicity for:  subset_eq(index(1, B), A)\n",
      "Calculating monotonicity for:  equals(0, cardinality(union(A, B)))\n",
      "Calculating monotonicity for:  subset_eq(intersection(A, B), index(1, A))\n",
      "Calculating monotonicity for:  subset_eq(intersection(A, B), index(1, B))\n",
      "Calculating monotonicity for:  subset_eq(difference(A, B), index(1, A))\n",
      "Calculating monotonicity for:  subset_eq(difference(B, A), index(1, B))\n",
      "Calculating monotonicity for:  not(greater_than(cardinality(A), 1))\n",
      "Calculating monotonicity for:  subset_eq(index(1, A), difference(A, B))\n",
      "Calculating monotonicity for:  subset_eq(index(1, A), index(1, B))\n",
      "Calculating monotonicity for:  not(greater_than(cardinality(B), 1))\n",
      "Calculating monotonicity for:  subset_eq(index(1, B), difference(B, A))\n",
      "Calculating monotonicity for:  subset_eq(index(1, B), index(1, A))\n",
      "Calculating monotonicity for:  equals(1, cardinality(A))\n",
      "Calculating monotonicity for:  equals(1, cardinality(B))\n",
      "Calculating monotonicity for:  equals(cardinality(A), cardinality(B))\n",
      "Calculating monotonicity for:  greater_than(cardinality(A), 0)\n",
      "Calculating monotonicity for:  greater_than(cardinality(A), 1)\n",
      "Calculating monotonicity for:  greater_than(cardinality(B), 0)\n",
      "Calculating monotonicity for:  greater_than(cardinality(B), 1)\n",
      "Calculating monotonicity for:  greater_than(cardinality(A), cardinality(B))\n",
      "Calculating monotonicity for:  greater_than(cardinality(B), cardinality(A))\n",
      "Calculating monotonicity for:  and(subset_eq(A, B), not(subset_eq(B, A)))\n",
      "Calculating monotonicity for:  and(subset_eq(A, B), subset_eq(index(1, B), A))\n",
      "Calculating monotonicity for:  and(subset_eq(A, B), subset_eq(difference(B, A), index(1, B)))\n",
      "Calculating monotonicity for:  subset_eq(A, difference(B, index(1, A)))\n",
      "Calculating monotonicity for:  and(subset_eq(A, B), subset_eq(index(1, A), index(1, B)))\n",
      "Calculating monotonicity for:  and(subset_eq(A, B), subset_eq(index(1, B), difference(A, A)))\n",
      "Calculating monotonicity for:  subset_eq(A, difference(intersection(A, B), index(1, B)))\n",
      "Calculating monotonicity for:  and(subset_eq(A, B), subset_eq(index(1, B), index(1, A)))\n",
      "Calculating monotonicity for:  and(subset_eq(A, B), equals(1, cardinality(A)))\n",
      "Calculating monotonicity for:  and(subset_eq(A, B), equals(1, cardinality(B)))\n",
      "Calculating monotonicity for:  and(subset_eq(A, B), greater_than(cardinality(A), 0))\n",
      "Calculating monotonicity for:  and(subset_eq(A, B), greater_than(cardinality(A), 1))\n",
      "Calculating monotonicity for:  and(subset_eq(A, B), greater_than(cardinality(B), 0))\n",
      "Calculating monotonicity for:  and(subset_eq(A, B), greater_than(cardinality(B), 1))\n",
      "Calculating monotonicity for:  and(subset_eq(B, A), not(subset_eq(A, B)))\n",
      "Calculating monotonicity for:  and(subset_eq(B, A), subset_eq(index(1, A), B))\n",
      "Calculating monotonicity for:  and(subset_eq(B, A), subset_eq(difference(A, B), index(1, A)))\n",
      "Calculating monotonicity for:  and(subset_eq(B, A), subset_eq(index(1, A), difference(A, A)))\n",
      "Calculating monotonicity for:  subset_eq(B, difference(intersection(A, B), index(1, A)))\n",
      "Calculating monotonicity for:  and(subset_eq(B, A), subset_eq(index(1, A), index(1, B)))\n",
      "Calculating monotonicity for:  subset_eq(B, difference(A, index(1, B)))\n",
      "Calculating monotonicity for:  and(subset_eq(B, A), subset_eq(index(1, B), index(1, A)))\n",
      "Calculating monotonicity for:  and(subset_eq(B, A), equals(1, cardinality(A)))\n",
      "Calculating monotonicity for:  and(subset_eq(B, A), equals(1, cardinality(B)))\n",
      "Calculating monotonicity for:  and(subset_eq(B, A), greater_than(cardinality(A), 0))\n",
      "Calculating monotonicity for:  and(subset_eq(B, A), greater_than(cardinality(A), 1))\n",
      "Calculating monotonicity for:  and(subset_eq(B, A), greater_than(cardinality(B), 0))\n",
      "Calculating monotonicity for:  and(subset_eq(B, A), greater_than(cardinality(B), 1))\n",
      "Calculating monotonicity for:  subset_eq(union(A, B), difference(intersection(A, B), index(1, A)))\n",
      "Calculating monotonicity for:  and(and(subset_eq(A, B), subset_eq(B, A)), equals(1, cardinality(A)))\n",
      "Calculating monotonicity for:  and(and(subset_eq(A, B), subset_eq(B, A)), greater_than(cardinality(A), 0))\n",
      "Calculating monotonicity for:  and(and(subset_eq(A, B), subset_eq(B, A)), greater_than(cardinality(A), 1))\n",
      "Calculating monotonicity for:  or(equals(0, cardinality(A)), equals(0, cardinality(B)))\n",
      "Calculating monotonicity for:  and(or(subset_eq(A, B), subset_eq(B, A)), subset_eq(index(1, A), B))\n",
      "Calculating monotonicity for:  and(or(subset_eq(A, B), subset_eq(B, A)), subset_eq(index(1, B), A))\n",
      "Calculating monotonicity for:  or(subset_eq(B, index(1, A)), equals(0, cardinality(A)))\n",
      "Calculating monotonicity for:  or(subset_eq(A, index(1, B)), equals(0, cardinality(B)))\n",
      "Calculating monotonicity for:  and(or(subset_eq(A, B), subset_eq(B, A)), subset_eq(difference(A, B), index(1, A)))\n",
      "Calculating monotonicity for:  and(or(subset_eq(A, B), subset_eq(B, A)), subset_eq(difference(B, A), index(1, B)))\n",
      "Calculating monotonicity for:  subset_eq(union(difference(A, B), index(1, A)), index(cardinality(B), difference(A, B)))\n",
      "Calculating monotonicity for:  and(or(subset_eq(A, B), subset_eq(B, A)), subset_eq(index(1, A), difference(A, B)))\n",
      "Calculating monotonicity for:  and(or(subset_eq(A, B), subset_eq(B, A)), subset_eq(index(1, A), index(1, B)))\n",
      "Calculating monotonicity for:  subset_eq(union(difference(B, A), index(1, B)), index(cardinality(A), difference(B, A)))\n",
      "Calculating monotonicity for:  and(or(subset_eq(A, B), subset_eq(B, A)), subset_eq(index(1, B), difference(B, A)))\n",
      "Calculating monotonicity for:  and(or(subset_eq(A, B), subset_eq(B, A)), subset_eq(index(1, B), index(1, A)))\n",
      "Calculating monotonicity for:  and(or(subset_eq(A, B), subset_eq(B, A)), equals(1, cardinality(A)))\n",
      "Calculating monotonicity for:  and(or(subset_eq(A, B), subset_eq(B, A)), equals(1, cardinality(B)))\n",
      "Calculating monotonicity for:  and(or(subset_eq(A, B), subset_eq(B, A)), greater_than(cardinality(A), 0))\n",
      "Calculating monotonicity for:  and(or(subset_eq(A, B), subset_eq(B, A)), greater_than(cardinality(A), 1))\n",
      "Calculating monotonicity for:  and(or(subset_eq(A, B), subset_eq(B, A)), greater_than(cardinality(B), 0))\n",
      "Calculating monotonicity for:  and(or(subset_eq(A, B), subset_eq(B, A)), greater_than(cardinality(B), 1))\n",
      "Calculating monotonicity for:  not(or(subset_eq(A, B), subset_eq(B, A)))\n",
      "Calculating monotonicity for:  and(not(subset_eq(A, B)), subset_eq(A, difference(A, B)))\n",
      "Calculating monotonicity for:  and(not(subset_eq(A, B)), equals(0, cardinality(B)))\n",
      "Calculating monotonicity for:  and(not(subset_eq(A, B)), subset_eq(B, index(1, A)))\n",
      "Calculating monotonicity for:  and(not(subset_eq(A, B)), subset_eq(index(1, A), B))\n",
      "Calculating monotonicity for:  and(not(subset_eq(A, B)), subset_eq(index(1, B), A))\n",
      "Calculating monotonicity for:  and(not(subset_eq(A, B)), subset_eq(intersection(A, B), index(1, A)))\n",
      "Calculating monotonicity for:  and(not(subset_eq(A, B)), subset_eq(intersection(A, B), index(1, B)))\n",
      "Calculating monotonicity for:  and(not(subset_eq(A, B)), subset_eq(difference(A, B), index(1, A)))\n",
      "Calculating monotonicity for:  and(not(subset_eq(A, B)), subset_eq(difference(B, A), index(1, B)))\n",
      "Calculating monotonicity for:  and(not(subset_eq(A, B)), equals(1, cardinality(A)))\n",
      "Calculating monotonicity for:  and(not(subset_eq(A, B)), subset_eq(index(1, A), difference(A, B)))\n",
      "Calculating monotonicity for:  and(not(subset_eq(A, B)), subset_eq(index(1, A), index(1, B)))\n",
      "Calculating monotonicity for:  greater_than(cardinality(difference(A, B)), cardinality(index(1, B)))\n",
      "Calculating monotonicity for:  and(not(subset_eq(A, B)), subset_eq(index(1, B), difference(B, A)))\n",
      "Calculating monotonicity for:  and(not(subset_eq(A, B)), subset_eq(index(1, B), index(1, A)))\n",
      "Calculating monotonicity for:  and(not(subset_eq(A, B)), equals(1, cardinality(B)))\n",
      "Calculating monotonicity for:  and(not(subset_eq(A, B)), equals(cardinality(A), cardinality(B)))\n",
      "Calculating monotonicity for:  and(not(subset_eq(A, B)), greater_than(cardinality(A), 1))\n",
      "Calculating monotonicity for:  and(not(subset_eq(A, B)), greater_than(cardinality(B), 0))\n",
      "Calculating monotonicity for:  and(not(subset_eq(A, B)), greater_than(cardinality(B), 1))\n",
      "Calculating monotonicity for:  and(not(subset_eq(A, B)), greater_than(cardinality(B), cardinality(A)))\n",
      "Calculating monotonicity for:  and(not(subset_eq(B, A)), equals(0, cardinality(A)))\n",
      "Calculating monotonicity for:  and(not(subset_eq(B, A)), subset_eq(A, difference(A, B)))\n",
      "Calculating monotonicity for:  and(not(subset_eq(B, A)), subset_eq(A, index(1, B)))\n",
      "Calculating monotonicity for:  and(not(subset_eq(B, A)), subset_eq(index(1, A), B))\n",
      "Calculating monotonicity for:  and(not(subset_eq(B, A)), subset_eq(index(1, B), A))\n",
      "Calculating monotonicity for:  and(not(subset_eq(B, A)), subset_eq(intersection(A, B), index(1, A)))\n",
      "Calculating monotonicity for:  and(not(subset_eq(B, A)), subset_eq(intersection(A, B), index(1, B)))\n",
      "Calculating monotonicity for:  and(not(subset_eq(B, A)), subset_eq(difference(A, B), index(1, A)))\n",
      "Calculating monotonicity for:  and(not(subset_eq(B, A)), subset_eq(difference(B, A), index(1, B)))\n",
      "Calculating monotonicity for:  greater_than(cardinality(difference(B, A)), cardinality(index(1, A)))\n",
      "Calculating monotonicity for:  and(not(subset_eq(B, A)), subset_eq(index(1, A), difference(A, B)))\n",
      "Calculating monotonicity for:  and(not(subset_eq(B, A)), subset_eq(index(1, A), index(1, B)))\n",
      "Calculating monotonicity for:  and(not(subset_eq(B, A)), equals(1, cardinality(B)))\n",
      "Calculating monotonicity for:  and(not(subset_eq(B, A)), subset_eq(index(1, B), difference(B, A)))\n",
      "Calculating monotonicity for:  and(not(subset_eq(B, A)), subset_eq(index(1, B), index(1, A)))\n",
      "Calculating monotonicity for:  and(not(subset_eq(B, A)), equals(1, cardinality(A)))\n",
      "Calculating monotonicity for:  and(not(subset_eq(B, A)), greater_than(cardinality(A), 0))\n",
      "Calculating monotonicity for:  and(not(subset_eq(B, A)), greater_than(cardinality(A), 1))\n",
      "Calculating monotonicity for:  and(not(subset_eq(B, A)), greater_than(cardinality(B), 1))\n",
      "Calculating monotonicity for:  and(not(subset_eq(B, A)), greater_than(cardinality(A), cardinality(B)))\n",
      "Calculating monotonicity for:  subset_eq(union(A, B), index(cardinality(A), B))\n",
      "Calculating monotonicity for:  and(equals(0, cardinality(A)), equals(1, cardinality(B)))\n",
      "Calculating monotonicity for:  greater_than(cardinality(index(1, B)), cardinality(A))\n",
      "Calculating monotonicity for:  subset_eq(A, difference(difference(A, B), index(1, A)))\n",
      "Calculating monotonicity for:  subset_eq(B, difference(difference(B, A), index(1, B)))\n",
      "Calculating monotonicity for:  and(subset_eq(A, difference(A, B)), equals(cardinality(A), cardinality(B)))\n",
      "Calculating monotonicity for:  greater_than(cardinality(index(1, A)), cardinality(intersection(A, B)))\n",
      "Calculating monotonicity for:  greater_than(cardinality(index(1, B)), cardinality(intersection(A, B)))\n",
      "Calculating monotonicity for:  and(subset_eq(A, difference(A, B)), greater_than(cardinality(A), cardinality(B)))\n",
      "Calculating monotonicity for:  and(subset_eq(A, difference(A, B)), greater_than(cardinality(B), cardinality(A)))\n",
      "Calculating monotonicity for:  subset_eq(union(A, index(1, B)), index(cardinality(A), B))\n",
      "Calculating monotonicity for:  and(subset_eq(A, index(1, B)), equals(1, cardinality(A)))\n",
      "Calculating monotonicity for:  and(subset_eq(A, index(1, B)), greater_than(cardinality(B), 1))\n",
      "Calculating monotonicity for:  subset_eq(union(A, B), index(cardinality(B), A))\n",
      "Calculating monotonicity for:  and(equals(0, cardinality(B)), equals(1, cardinality(A)))\n",
      "Calculating monotonicity for:  greater_than(cardinality(index(1, A)), cardinality(B))\n",
      "Calculating monotonicity for:  subset_eq(union(B, index(1, A)), index(cardinality(B), A))\n",
      "Calculating monotonicity for:  and(subset_eq(B, index(1, A)), equals(1, cardinality(B)))\n",
      "Calculating monotonicity for:  and(subset_eq(B, index(1, A)), greater_than(cardinality(A), 1))\n",
      "Calculating monotonicity for:  and(subset_eq(index(1, A), B), subset_eq(index(1, B), A))\n",
      "Calculating monotonicity for:  and(subset_eq(index(1, A), B), subset_eq(intersection(A, B), index(1, A)))\n",
      "Calculating monotonicity for:  subset_eq(union(intersection(A, B), index(1, A)), index(1, B))\n",
      "Calculating monotonicity for:  and(subset_eq(index(1, A), B), subset_eq(difference(B, A), index(1, B)))\n",
      "Calculating monotonicity for:  and(subset_eq(index(1, A), B), subset_eq(index(1, B), difference(A, A)))\n",
      "Calculating monotonicity for:  and(subset_eq(index(1, A), B), subset_eq(index(1, B), difference(B, A)))\n",
      "Calculating monotonicity for:  and(subset_eq(index(1, A), B), subset_eq(index(1, B), index(1, A)))\n",
      "Calculating monotonicity for:  and(subset_eq(index(1, A), B), equals(1, cardinality(B)))\n",
      "Calculating monotonicity for:  and(subset_eq(index(1, A), B), equals(cardinality(A), cardinality(B)))\n",
      "Calculating monotonicity for:  and(subset_eq(index(1, A), B), greater_than(cardinality(A), 0))\n",
      "Calculating monotonicity for:  not(subset_eq(index(1, A), difference(A, B)))\n",
      "Calculating monotonicity for:  and(subset_eq(index(1, A), B), greater_than(cardinality(B), 0))\n",
      "Calculating monotonicity for:  and(subset_eq(index(1, A), B), greater_than(cardinality(B), 1))\n",
      "Calculating monotonicity for:  and(subset_eq(index(1, A), B), greater_than(cardinality(A), cardinality(B)))\n",
      "Calculating monotonicity for:  subset_eq(union(intersection(A, B), index(1, B)), index(1, A))\n",
      "Calculating monotonicity for:  and(subset_eq(index(1, B), A), subset_eq(intersection(A, B), index(1, B)))\n",
      "Calculating monotonicity for:  and(subset_eq(index(1, B), A), subset_eq(difference(A, B), index(1, A)))\n",
      "Calculating monotonicity for:  and(subset_eq(index(1, B), A), subset_eq(index(1, A), difference(A, A)))\n",
      "Calculating monotonicity for:  and(subset_eq(index(1, B), A), subset_eq(index(1, A), difference(A, B)))\n",
      "Calculating monotonicity for:  and(subset_eq(index(1, B), A), subset_eq(index(1, A), index(1, B)))\n",
      "Calculating monotonicity for:  and(subset_eq(index(1, B), A), equals(1, cardinality(A)))\n",
      "Calculating monotonicity for:  and(subset_eq(index(1, B), A), equals(cardinality(A), cardinality(B)))\n",
      "Calculating monotonicity for:  and(subset_eq(index(1, B), A), greater_than(cardinality(A), 0))\n",
      "Calculating monotonicity for:  and(subset_eq(index(1, B), A), greater_than(cardinality(A), 1))\n",
      "Calculating monotonicity for:  and(subset_eq(index(1, B), A), greater_than(cardinality(B), 0))\n",
      "Calculating monotonicity for:  not(subset_eq(index(1, B), difference(B, A)))\n",
      "Calculating monotonicity for:  and(subset_eq(index(1, B), A), greater_than(cardinality(B), cardinality(A)))\n",
      "Calculating monotonicity for:  subset_eq(intersection(A, B), intersection(index(1, A), index(1, B)))\n",
      "Calculating monotonicity for:  subset_eq(difference(B, index(1, A)), difference(index(1, B), A))\n",
      "Calculating monotonicity for:  and(subset_eq(intersection(A, B), index(1, A)), subset_eq(index(1, A), index(1, B)))\n",
      "Calculating monotonicity for:  subset_eq(union(intersection(A, B), index(1, B)), index(cardinality(B), A))\n",
      "Calculating monotonicity for:  subset_eq(intersection(A, B), difference(index(1, A), index(1, B)))\n",
      "Calculating monotonicity for:  and(subset_eq(intersection(A, B), index(1, A)), equals(1, cardinality(B)))\n",
      "Calculating monotonicity for:  and(subset_eq(intersection(A, B), index(1, A)), equals(cardinality(A), cardinality(B)))\n",
      "Calculating monotonicity for:  and(subset_eq(intersection(A, B), index(1, A)), greater_than(cardinality(A), 1))\n",
      "Calculating monotonicity for:  and(subset_eq(intersection(A, B), index(1, A)), greater_than(cardinality(B), 0))\n",
      "Calculating monotonicity for:  and(subset_eq(intersection(A, B), index(1, A)), greater_than(cardinality(B), 1))\n",
      "Calculating monotonicity for:  and(subset_eq(intersection(A, B), index(1, A)), greater_than(cardinality(A), cardinality(B)))\n",
      "Calculating monotonicity for:  subset_eq(difference(A, index(1, B)), difference(index(1, A), B))\n",
      "Calculating monotonicity for:  subset_eq(union(intersection(A, B), index(1, A)), index(cardinality(A), B))\n",
      "Calculating monotonicity for:  subset_eq(intersection(A, B), difference(index(1, B), index(1, A)))\n",
      "Calculating monotonicity for:  and(subset_eq(intersection(A, B), index(1, B)), subset_eq(index(1, B), index(1, A)))\n",
      "Calculating monotonicity for:  and(subset_eq(intersection(A, B), index(1, B)), equals(1, cardinality(A)))\n",
      "Calculating monotonicity for:  and(subset_eq(intersection(A, B), index(1, B)), equals(cardinality(A), cardinality(B)))\n",
      "Calculating monotonicity for:  and(subset_eq(intersection(A, B), index(1, B)), greater_than(cardinality(A), 0))\n",
      "Calculating monotonicity for:  and(subset_eq(intersection(A, B), index(1, B)), greater_than(cardinality(A), 1))\n",
      "Calculating monotonicity for:  and(subset_eq(intersection(A, B), index(1, B)), greater_than(cardinality(B), 1))\n",
      "Calculating monotonicity for:  and(subset_eq(intersection(A, B), index(1, B)), greater_than(cardinality(B), cardinality(A)))\n",
      "Calculating monotonicity for:  and(subset_eq(difference(A, B), index(1, A)), subset_eq(difference(B, A), index(1, B)))\n",
      "Calculating monotonicity for:  subset_eq(union(difference(A, B), index(1, A)), difference(index(1, A), B))\n",
      "Calculating monotonicity for:  subset_eq(union(difference(A, B), index(1, B)), difference(index(1, A), B))\n",
      "Calculating monotonicity for:  and(subset_eq(difference(A, B), index(1, A)), subset_eq(index(1, B), difference(B, A)))\n",
      "Calculating monotonicity for:  subset_eq(union(difference(A, B), index(1, B)), index(1, A))\n",
      "Calculating monotonicity for:  and(subset_eq(difference(A, B), index(1, A)), equals(1, cardinality(B)))\n",
      "Calculating monotonicity for:  and(subset_eq(difference(A, B), index(1, A)), equals(cardinality(A), cardinality(B)))\n",
      "Calculating monotonicity for:  and(subset_eq(difference(A, B), index(1, A)), greater_than(cardinality(A), 0))\n",
      "Calculating monotonicity for:  and(subset_eq(difference(A, B), index(1, A)), greater_than(cardinality(A), 1))\n",
      "Calculating monotonicity for:  and(subset_eq(difference(A, B), index(1, A)), greater_than(cardinality(B), 0))\n",
      "Calculating monotonicity for:  and(subset_eq(difference(A, B), index(1, A)), greater_than(cardinality(B), 1))\n",
      "Calculating monotonicity for:  and(subset_eq(difference(A, B), index(1, A)), greater_than(cardinality(A), cardinality(B)))\n",
      "Calculating monotonicity for:  subset_eq(union(difference(B, A), index(1, A)), difference(index(1, B), A))\n",
      "Calculating monotonicity for:  and(subset_eq(difference(B, A), index(1, B)), subset_eq(index(1, A), difference(A, B)))\n",
      "Calculating monotonicity for:  subset_eq(union(difference(B, A), index(1, A)), index(1, B))\n",
      "Calculating monotonicity for:  subset_eq(union(difference(B, A), index(1, B)), difference(index(1, B), A))\n",
      "Calculating monotonicity for:  and(subset_eq(difference(B, A), index(1, B)), equals(1, cardinality(A)))\n",
      "Calculating monotonicity for:  and(subset_eq(difference(B, A), index(1, B)), equals(cardinality(A), cardinality(B)))\n",
      "Calculating monotonicity for:  and(subset_eq(difference(B, A), index(1, B)), greater_than(cardinality(A), 0))\n",
      "Calculating monotonicity for:  and(subset_eq(difference(B, A), index(1, B)), greater_than(cardinality(A), 1))\n",
      "Calculating monotonicity for:  and(subset_eq(difference(B, A), index(1, B)), greater_than(cardinality(B), 0))\n",
      "Calculating monotonicity for:  and(subset_eq(difference(B, A), index(1, B)), greater_than(cardinality(B), 1))\n",
      "Calculating monotonicity for:  and(subset_eq(difference(B, A), index(1, B)), greater_than(cardinality(B), cardinality(A)))\n",
      "Calculating monotonicity for:  subset_eq(union(index(1, A), index(1, B)), difference(A, A))\n",
      "Calculating monotonicity for:  subset_eq(union(index(1, A), index(1, B)), difference(B, A))\n",
      "Calculating monotonicity for:  and(subset_eq(index(1, A), difference(A, A)), equals(1, cardinality(B)))\n",
      "Calculating monotonicity for:  and(subset_eq(index(1, A), difference(A, A)), equals(cardinality(A), cardinality(B)))\n",
      "Calculating monotonicity for:  and(subset_eq(index(1, A), difference(A, A)), greater_than(cardinality(B), 0))\n",
      "Calculating monotonicity for:  greater_than(cardinality(index(1, B)), cardinality(index(1, A)))\n",
      "Calculating monotonicity for:  and(subset_eq(index(1, A), difference(A, A)), greater_than(cardinality(B), cardinality(A)))\n",
      "Calculating monotonicity for:  subset_eq(union(index(1, A), index(1, B)), difference(A, B))\n",
      "Calculating monotonicity for:  and(subset_eq(index(1, A), difference(A, B)), subset_eq(index(1, B), difference(B, A)))\n",
      "Calculating monotonicity for:  and(subset_eq(index(1, A), difference(A, B)), equals(1, cardinality(B)))\n"
     ]
    },
    {
     "name": "stderr",
     "output_type": "stream",
     "text": [
      "/Users/Chris/Documents/UWLing/altk/src/examples/learn_quant/measures.py:176: RuntimeWarning: divide by zero encountered in log2\n",
      "  nopred_logs = np.log2([noq_nopred, q_nopred] / p_nopred)\n",
      "/Users/Chris/Documents/UWLing/altk/src/examples/learn_quant/measures.py:174: RuntimeWarning: divide by zero encountered in log2\n",
      "  pred_logs = np.log2([noq_pred, q_pred] / p_pred)\n"
     ]
    },
    {
     "name": "stdout",
     "output_type": "stream",
     "text": [
      "Calculating monotonicity for:  and(subset_eq(index(1, A), difference(A, B)), equals(cardinality(A), cardinality(B)))\n",
      "Calculating monotonicity for:  and(subset_eq(index(1, A), difference(A, B)), greater_than(cardinality(A), 0))\n",
      "Calculating monotonicity for:  not(subset_eq(index(1, A), B))\n",
      "Calculating monotonicity for:  and(subset_eq(index(1, A), difference(A, B)), greater_than(cardinality(B), 0))\n",
      "Calculating monotonicity for:  and(subset_eq(index(1, A), difference(A, B)), greater_than(cardinality(B), 1))\n",
      "Calculating monotonicity for:  and(subset_eq(index(1, A), difference(A, B)), greater_than(cardinality(A), cardinality(B)))\n",
      "Calculating monotonicity for:  and(subset_eq(index(1, A), index(1, B)), subset_eq(index(1, B), index(1, A)))\n",
      "Calculating monotonicity for:  and(subset_eq(index(1, A), index(1, B)), equals(cardinality(A), cardinality(B)))\n",
      "Calculating monotonicity for:  and(subset_eq(index(1, A), index(1, B)), greater_than(cardinality(A), 0))\n",
      "Calculating monotonicity for:  and(subset_eq(index(1, A), index(1, B)), greater_than(cardinality(A), 1))\n",
      "Calculating monotonicity for:  and(subset_eq(index(1, A), index(1, B)), greater_than(cardinality(B), 0))\n",
      "Calculating monotonicity for:  and(subset_eq(index(1, A), index(1, B)), greater_than(cardinality(B), 1))\n",
      "Calculating monotonicity for:  and(subset_eq(index(1, A), index(1, B)), greater_than(cardinality(A), cardinality(B)))\n",
      "Calculating monotonicity for:  and(subset_eq(index(1, A), index(1, B)), greater_than(cardinality(B), cardinality(A)))\n",
      "Calculating monotonicity for:  and(subset_eq(index(1, B), difference(A, A)), equals(1, cardinality(A)))\n",
      "Calculating monotonicity for:  and(subset_eq(index(1, B), difference(A, A)), greater_than(cardinality(A), 0))\n",
      "Calculating monotonicity for:  greater_than(cardinality(index(1, A)), cardinality(index(1, B)))\n",
      "Calculating monotonicity for:  and(subset_eq(index(1, B), difference(A, A)), greater_than(cardinality(A), cardinality(B)))\n",
      "Calculating monotonicity for:  and(subset_eq(index(1, B), difference(B, A)), equals(1, cardinality(A)))\n",
      "Calculating monotonicity for:  and(subset_eq(index(1, B), difference(B, A)), equals(cardinality(A), cardinality(B)))\n",
      "Calculating monotonicity for:  and(subset_eq(index(1, B), difference(B, A)), greater_than(cardinality(A), 0))\n",
      "Calculating monotonicity for:  and(subset_eq(index(1, B), difference(B, A)), greater_than(cardinality(A), 1))\n",
      "Calculating monotonicity for:  and(subset_eq(index(1, B), difference(B, A)), greater_than(cardinality(B), 0))\n",
      "Calculating monotonicity for:  not(subset_eq(index(1, B), A))\n",
      "Calculating monotonicity for:  and(subset_eq(index(1, B), difference(B, A)), greater_than(cardinality(B), cardinality(A)))\n",
      "Calculating monotonicity for:  and(subset_eq(index(1, B), index(1, A)), greater_than(cardinality(A), 0))\n",
      "Calculating monotonicity for:  and(subset_eq(index(1, B), index(1, A)), greater_than(cardinality(A), 1))\n",
      "Calculating monotonicity for:  and(subset_eq(index(1, B), index(1, A)), greater_than(cardinality(B), 0))\n",
      "Calculating monotonicity for:  and(subset_eq(index(1, B), index(1, A)), greater_than(cardinality(A), cardinality(B)))\n",
      "Calculating monotonicity for:  and(subset_eq(index(1, B), index(1, A)), greater_than(cardinality(B), cardinality(A)))\n",
      "Calculating monotonicity for:  and(equals(1, cardinality(A)), equals(1, cardinality(B)))\n",
      "Calculating monotonicity for:  and(equals(1, cardinality(A)), greater_than(cardinality(B), 0))\n",
      "Calculating monotonicity for:  and(equals(1, cardinality(A)), greater_than(cardinality(B), 1))\n",
      "Calculating monotonicity for:  and(equals(1, cardinality(B)), greater_than(cardinality(A), 0))\n",
      "Calculating monotonicity for:  and(equals(1, cardinality(B)), greater_than(cardinality(A), 1))\n",
      "Calculating monotonicity for:  and(equals(cardinality(A), cardinality(B)), greater_than(cardinality(A), 0))\n",
      "Calculating monotonicity for:  and(equals(cardinality(A), cardinality(B)), greater_than(cardinality(A), 1))\n",
      "Calculating monotonicity for:  and(greater_than(cardinality(A), 0), greater_than(cardinality(B), 0))\n",
      "Calculating monotonicity for:  and(greater_than(cardinality(A), 0), greater_than(cardinality(B), 1))\n",
      "Calculating monotonicity for:  and(greater_than(cardinality(A), 0), greater_than(cardinality(B), cardinality(A)))\n",
      "Calculating monotonicity for:  and(greater_than(cardinality(A), 1), greater_than(cardinality(B), 0))\n",
      "Calculating monotonicity for:  and(greater_than(cardinality(A), 1), greater_than(cardinality(B), 1))\n",
      "Calculating monotonicity for:  and(greater_than(cardinality(A), 1), greater_than(cardinality(A), cardinality(B)))\n",
      "Calculating monotonicity for:  and(greater_than(cardinality(A), 1), greater_than(cardinality(B), cardinality(A)))\n",
      "Calculating monotonicity for:  and(greater_than(cardinality(B), 0), greater_than(cardinality(A), cardinality(B)))\n",
      "Calculating monotonicity for:  and(greater_than(cardinality(B), 1), greater_than(cardinality(A), cardinality(B)))\n",
      "Calculating monotonicity for:  and(greater_than(cardinality(B), 1), greater_than(cardinality(B), cardinality(A)))\n",
      "Calculating monotonicity for:  or(subset_eq(A, B), not(subset_eq(B, A)))\n",
      "Calculating monotonicity for:  or(subset_eq(A, B), subset_eq(A, difference(A, B)))\n",
      "Calculating monotonicity for:  or(subset_eq(A, B), equals(0, cardinality(B)))\n",
      "Calculating monotonicity for:  or(subset_eq(A, B), subset_eq(B, index(1, A)))\n",
      "Calculating monotonicity for:  or(subset_eq(A, B), subset_eq(index(1, B), A))\n",
      "Calculating monotonicity for:  or(subset_eq(A, B), subset_eq(intersection(A, B), index(1, A)))\n",
      "Calculating monotonicity for:  or(subset_eq(A, B), subset_eq(intersection(A, B), index(1, B)))\n",
      "Calculating monotonicity for:  or(subset_eq(A, B), subset_eq(difference(B, A), index(1, B)))\n",
      "Calculating monotonicity for:  or(subset_eq(A, B), equals(1, cardinality(A)))\n",
      "Calculating monotonicity for:  or(subset_eq(A, B), subset_eq(index(1, A), difference(A, B)))\n",
      "Calculating monotonicity for:  or(subset_eq(A, B), subset_eq(index(1, A), index(1, B)))\n",
      "Calculating monotonicity for:  or(subset_eq(A, B), subset_eq(index(1, B), difference(A, A)))\n",
      "Calculating monotonicity for:  or(subset_eq(A, B), subset_eq(index(1, B), difference(B, A)))\n",
      "Calculating monotonicity for:  or(subset_eq(A, B), subset_eq(index(1, B), index(1, A)))\n",
      "Calculating monotonicity for:  or(subset_eq(A, B), equals(1, cardinality(B)))\n",
      "Calculating monotonicity for:  or(subset_eq(A, B), equals(cardinality(A), cardinality(B)))\n",
      "Calculating monotonicity for:  or(subset_eq(A, B), greater_than(cardinality(A), 1))\n",
      "Calculating monotonicity for:  or(subset_eq(A, B), greater_than(cardinality(B), 0))\n",
      "Calculating monotonicity for:  or(subset_eq(A, B), greater_than(cardinality(B), 1))\n",
      "Calculating monotonicity for:  or(subset_eq(A, B), greater_than(cardinality(A), cardinality(B)))\n",
      "Calculating monotonicity for:  or(subset_eq(A, B), greater_than(cardinality(B), cardinality(A)))\n",
      "Calculating monotonicity for:  or(subset_eq(B, A), not(subset_eq(A, B)))\n",
      "Calculating monotonicity for:  or(subset_eq(B, A), equals(0, cardinality(A)))\n",
      "Calculating monotonicity for:  or(subset_eq(B, A), subset_eq(A, difference(A, B)))\n",
      "Calculating monotonicity for:  or(subset_eq(B, A), subset_eq(A, index(1, B)))\n",
      "Calculating monotonicity for:  or(subset_eq(B, A), subset_eq(index(1, A), B))\n",
      "Calculating monotonicity for:  or(subset_eq(B, A), subset_eq(intersection(A, B), index(1, A)))\n",
      "Calculating monotonicity for:  or(subset_eq(B, A), subset_eq(intersection(A, B), index(1, B)))\n",
      "Calculating monotonicity for:  or(subset_eq(B, A), subset_eq(difference(A, B), index(1, A)))\n",
      "Calculating monotonicity for:  or(subset_eq(B, A), subset_eq(index(1, A), difference(A, A)))\n",
      "Calculating monotonicity for:  or(subset_eq(B, A), subset_eq(index(1, A), difference(A, B)))\n",
      "Calculating monotonicity for:  or(subset_eq(B, A), subset_eq(index(1, A), index(1, B)))\n",
      "Calculating monotonicity for:  or(subset_eq(B, A), equals(1, cardinality(B)))\n",
      "Calculating monotonicity for:  or(subset_eq(B, A), subset_eq(index(1, B), difference(B, A)))\n",
      "Calculating monotonicity for:  or(subset_eq(B, A), subset_eq(index(1, B), index(1, A)))\n",
      "Calculating monotonicity for:  or(subset_eq(B, A), equals(1, cardinality(A)))\n",
      "Calculating monotonicity for:  or(subset_eq(B, A), equals(cardinality(A), cardinality(B)))\n",
      "Calculating monotonicity for:  or(subset_eq(B, A), greater_than(cardinality(A), 0))\n",
      "Calculating monotonicity for:  or(subset_eq(B, A), greater_than(cardinality(A), 1))\n",
      "Calculating monotonicity for:  or(subset_eq(B, A), greater_than(cardinality(B), 1))\n",
      "Calculating monotonicity for:  or(subset_eq(B, A), greater_than(cardinality(A), cardinality(B)))\n",
      "Calculating monotonicity for:  or(subset_eq(B, A), greater_than(cardinality(B), cardinality(A)))\n",
      "Calculating monotonicity for:  or(and(subset_eq(A, B), subset_eq(B, A)), equals(0, cardinality(A)))\n",
      "Calculating monotonicity for:  or(and(subset_eq(A, B), subset_eq(B, A)), subset_eq(A, difference(A, B)))\n",
      "Calculating monotonicity for:  or(and(subset_eq(A, B), subset_eq(B, A)), subset_eq(A, index(1, B)))\n",
      "Calculating monotonicity for:  or(and(subset_eq(A, B), subset_eq(B, A)), equals(0, cardinality(B)))\n",
      "Calculating monotonicity for:  or(and(subset_eq(A, B), subset_eq(B, A)), subset_eq(B, index(1, A)))\n",
      "Calculating monotonicity for:  or(and(subset_eq(A, B), subset_eq(B, A)), subset_eq(intersection(A, B), index(1, A)))\n",
      "Calculating monotonicity for:  or(and(subset_eq(A, B), subset_eq(B, A)), subset_eq(intersection(A, B), index(1, B)))\n",
      "Calculating monotonicity for:  or(and(subset_eq(A, B), subset_eq(B, A)), subset_eq(index(1, A), difference(A, A)))\n",
      "Calculating monotonicity for:  or(and(subset_eq(A, B), subset_eq(B, A)), subset_eq(index(1, A), difference(A, B)))\n",
      "Calculating monotonicity for:  or(and(subset_eq(A, B), subset_eq(B, A)), subset_eq(index(1, B), difference(A, A)))\n",
      "Calculating monotonicity for:  or(and(subset_eq(A, B), subset_eq(B, A)), subset_eq(index(1, B), difference(B, A)))\n",
      "Calculating monotonicity for:  or(and(subset_eq(A, B), subset_eq(B, A)), equals(1, cardinality(A)))\n",
      "Calculating monotonicity for:  or(and(subset_eq(A, B), subset_eq(B, A)), equals(1, cardinality(B)))\n",
      "Calculating monotonicity for:  or(and(subset_eq(A, B), subset_eq(B, A)), greater_than(cardinality(A), 1))\n",
      "Calculating monotonicity for:  or(and(subset_eq(A, B), subset_eq(B, A)), greater_than(cardinality(B), 1))\n",
      "Calculating monotonicity for:  or(or(subset_eq(A, B), subset_eq(B, A)), subset_eq(A, difference(A, B)))\n",
      "Calculating monotonicity for:  or(subset_eq(index(1, A), B), greater_than(cardinality(A), cardinality(B)))\n",
      "Calculating monotonicity for:  or(subset_eq(index(1, B), A), greater_than(cardinality(B), cardinality(A)))\n",
      "Calculating monotonicity for:  or(or(subset_eq(A, B), subset_eq(B, A)), equals(1, cardinality(A)))\n",
      "Calculating monotonicity for:  or(or(subset_eq(A, B), subset_eq(B, A)), subset_eq(index(1, A), difference(A, B)))\n",
      "Calculating monotonicity for:  or(or(subset_eq(A, B), subset_eq(B, A)), subset_eq(index(1, A), index(1, B)))\n",
      "Calculating monotonicity for:  or(or(subset_eq(A, B), subset_eq(B, A)), equals(1, cardinality(B)))\n",
      "Calculating monotonicity for:  or(or(subset_eq(A, B), subset_eq(B, A)), subset_eq(index(1, B), difference(B, A)))\n",
      "Calculating monotonicity for:  or(or(subset_eq(A, B), subset_eq(B, A)), subset_eq(index(1, B), index(1, A)))\n",
      "Calculating monotonicity for:  or(or(subset_eq(A, B), subset_eq(B, A)), equals(cardinality(A), cardinality(B)))\n",
      "Calculating monotonicity for:  or(or(subset_eq(A, B), subset_eq(B, A)), greater_than(cardinality(A), 1))\n",
      "Calculating monotonicity for:  or(or(subset_eq(A, B), subset_eq(B, A)), greater_than(cardinality(B), 1))\n",
      "Calculating monotonicity for:  not(and(subset_eq(A, B), subset_eq(B, A)))\n",
      "Calculating monotonicity for:  or(not(subset_eq(A, B)), equals(0, cardinality(A)))\n",
      "Calculating monotonicity for:  or(not(subset_eq(A, B)), subset_eq(A, index(1, B)))\n",
      "Calculating monotonicity for:  or(not(subset_eq(A, B)), equals(0, cardinality(B)))\n",
      "Calculating monotonicity for:  or(not(subset_eq(A, B)), subset_eq(index(1, B), A))\n",
      "Calculating monotonicity for:  or(not(subset_eq(A, B)), subset_eq(difference(B, A), index(1, B)))\n",
      "Calculating monotonicity for:  or(not(subset_eq(A, B)), subset_eq(index(1, A), difference(A, A)))\n",
      "Calculating monotonicity for:  subset_eq(index(1, intersection(A, B)), index(1, B))\n",
      "Calculating monotonicity for:  or(not(subset_eq(A, B)), subset_eq(index(1, B), difference(A, A)))\n",
      "Calculating monotonicity for:  or(not(subset_eq(A, B)), subset_eq(index(1, B), difference(B, A)))\n",
      "Calculating monotonicity for:  or(not(subset_eq(A, B)), subset_eq(index(1, B), index(1, A)))\n",
      "Calculating monotonicity for:  or(not(subset_eq(A, B)), equals(1, cardinality(A)))\n",
      "Calculating monotonicity for:  or(not(subset_eq(A, B)), equals(1, cardinality(B)))\n",
      "Calculating monotonicity for:  or(not(subset_eq(A, B)), greater_than(cardinality(A), 1))\n",
      "Calculating monotonicity for:  greater_than(cardinality(union(A, B)), 0)\n",
      "Calculating monotonicity for:  or(not(subset_eq(A, B)), greater_than(cardinality(B), 1))\n",
      "Calculating monotonicity for:  or(not(subset_eq(B, A)), equals(0, cardinality(A)))\n",
      "Calculating monotonicity for:  or(not(subset_eq(B, A)), equals(0, cardinality(B)))\n",
      "Calculating monotonicity for:  or(not(subset_eq(B, A)), subset_eq(B, index(1, A)))\n",
      "Calculating monotonicity for:  or(not(subset_eq(B, A)), subset_eq(index(1, A), B))\n",
      "Calculating monotonicity for:  or(not(subset_eq(B, A)), subset_eq(difference(A, B), index(1, A)))\n",
      "Calculating monotonicity for:  or(not(subset_eq(B, A)), subset_eq(index(1, A), difference(A, A)))\n",
      "Calculating monotonicity for:  or(not(subset_eq(B, A)), subset_eq(index(1, A), difference(A, B)))\n",
      "Calculating monotonicity for:  or(not(subset_eq(B, A)), subset_eq(index(1, A), index(1, B)))\n",
      "Calculating monotonicity for:  or(not(subset_eq(B, A)), subset_eq(index(1, B), difference(A, A)))\n",
      "Calculating monotonicity for:  subset_eq(index(1, intersection(A, B)), index(1, A))\n",
      "Calculating monotonicity for:  or(not(subset_eq(B, A)), equals(1, cardinality(A)))\n",
      "Calculating monotonicity for:  or(not(subset_eq(B, A)), equals(1, cardinality(B)))\n",
      "Calculating monotonicity for:  or(not(subset_eq(B, A)), greater_than(cardinality(A), 1))\n",
      "Calculating monotonicity for:  or(not(subset_eq(B, A)), greater_than(cardinality(B), 1))\n",
      "Calculating monotonicity for:  or(subset_eq(index(1, B), A), equals(0, cardinality(A)))\n",
      "Calculating monotonicity for:  or(subset_eq(difference(B, A), index(1, B)), equals(0, cardinality(A)))\n",
      "Calculating monotonicity for:  subset_eq(index(1, B), index(cardinality(A), index(1, B)))\n",
      "Calculating monotonicity for:  or(subset_eq(index(1, B), index(1, A)), equals(0, cardinality(A)))\n",
      "Calculating monotonicity for:  or(equals(0, cardinality(A)), equals(1, cardinality(B)))\n",
      "Calculating monotonicity for:  or(equals(0, cardinality(A)), equals(cardinality(A), cardinality(B)))\n",
      "Calculating monotonicity for:  not(equals(1, cardinality(A)))\n",
      "Calculating monotonicity for:  or(equals(0, cardinality(A)), greater_than(cardinality(B), 1))\n",
      "Calculating monotonicity for:  or(equals(0, cardinality(A)), greater_than(cardinality(A), cardinality(B)))\n",
      "Calculating monotonicity for:  or(equals(0, cardinality(A)), greater_than(cardinality(B), cardinality(A)))\n",
      "Calculating monotonicity for:  subset_eq(intersection(A, B), index(cardinality(A), B))\n",
      "Calculating monotonicity for:  subset_eq(intersection(A, B), index(cardinality(B), A))\n",
      "Calculating monotonicity for:  or(subset_eq(A, difference(A, B)), subset_eq(index(1, A), B))\n",
      "Calculating monotonicity for:  or(subset_eq(A, difference(A, B)), subset_eq(index(1, B), A))\n",
      "Calculating monotonicity for:  or(subset_eq(A, difference(A, B)), subset_eq(difference(A, B), index(1, A)))\n",
      "Calculating monotonicity for:  or(subset_eq(A, difference(A, B)), subset_eq(difference(B, A), index(1, B)))\n",
      "Calculating monotonicity for:  or(subset_eq(A, difference(A, B)), equals(1, cardinality(A)))\n",
      "Calculating monotonicity for:  or(subset_eq(A, difference(A, B)), subset_eq(index(1, A), index(1, B)))\n",
      "Calculating monotonicity for:  or(subset_eq(A, difference(A, B)), equals(1, cardinality(B)))\n",
      "Calculating monotonicity for:  or(subset_eq(A, difference(A, B)), subset_eq(index(1, B), index(1, A)))\n",
      "Calculating monotonicity for:  or(subset_eq(A, difference(A, B)), equals(cardinality(A), cardinality(B)))\n",
      "Calculating monotonicity for:  or(subset_eq(A, difference(A, B)), greater_than(cardinality(A), 1))\n",
      "Calculating monotonicity for:  or(subset_eq(A, difference(A, B)), greater_than(cardinality(B), 1))\n",
      "Calculating monotonicity for:  or(subset_eq(A, difference(A, B)), greater_than(cardinality(A), cardinality(B)))\n",
      "Calculating monotonicity for:  or(subset_eq(A, difference(A, B)), greater_than(cardinality(B), cardinality(A)))\n",
      "Calculating monotonicity for:  or(subset_eq(A, index(1, B)), subset_eq(B, index(1, A)))\n",
      "Calculating monotonicity for:  subset_eq(difference(intersection(A, B), index(1, A)), index(cardinality(A), B))\n",
      "Calculating monotonicity for:  or(subset_eq(A, index(1, B)), subset_eq(difference(B, A), index(1, B)))\n",
      "Calculating monotonicity for:  or(subset_eq(A, index(1, B)), subset_eq(index(1, B), difference(A, A)))\n",
      "Calculating monotonicity for:  subset_eq(intersection(A, index(1, B)), index(cardinality(A), B))\n",
      "Calculating monotonicity for:  or(subset_eq(A, index(1, B)), subset_eq(index(1, B), index(1, A)))\n",
      "Calculating monotonicity for:  or(subset_eq(A, index(1, B)), equals(1, cardinality(B)))\n",
      "Calculating monotonicity for:  or(subset_eq(A, index(1, B)), equals(cardinality(A), cardinality(B)))\n",
      "Calculating monotonicity for:  or(subset_eq(A, index(1, B)), greater_than(cardinality(A), 1))\n",
      "Calculating monotonicity for:  or(subset_eq(A, index(1, B)), greater_than(cardinality(A), cardinality(B)))\n",
      "Calculating monotonicity for:  or(subset_eq(index(1, A), B), equals(0, cardinality(B)))\n",
      "Calculating monotonicity for:  or(subset_eq(difference(A, B), index(1, A)), equals(0, cardinality(B)))\n",
      "Calculating monotonicity for:  subset_eq(index(1, A), index(cardinality(B), index(1, A)))\n",
      "Calculating monotonicity for:  or(subset_eq(index(1, A), index(1, B)), equals(0, cardinality(B)))\n",
      "Calculating monotonicity for:  or(equals(0, cardinality(B)), equals(1, cardinality(A)))\n",
      "Calculating monotonicity for:  or(equals(0, cardinality(B)), equals(cardinality(A), cardinality(B)))\n",
      "Calculating monotonicity for:  or(equals(0, cardinality(B)), greater_than(cardinality(A), 1))\n",
      "Calculating monotonicity for:  not(equals(1, cardinality(B)))\n",
      "Calculating monotonicity for:  or(equals(0, cardinality(B)), greater_than(cardinality(A), cardinality(B)))\n",
      "Calculating monotonicity for:  or(equals(0, cardinality(B)), greater_than(cardinality(B), cardinality(A)))\n",
      "Calculating monotonicity for:  subset_eq(difference(intersection(A, B), index(1, B)), index(cardinality(B), A))\n",
      "Calculating monotonicity for:  or(subset_eq(B, index(1, A)), subset_eq(difference(A, B), index(1, A)))\n",
      "Calculating monotonicity for:  or(subset_eq(B, index(1, A)), subset_eq(index(1, A), difference(A, A)))\n",
      "Calculating monotonicity for:  subset_eq(intersection(B, index(1, A)), index(cardinality(B), A))\n",
      "Calculating monotonicity for:  or(subset_eq(B, index(1, A)), subset_eq(index(1, A), index(1, B)))\n",
      "Calculating monotonicity for:  or(subset_eq(B, index(1, A)), equals(1, cardinality(A)))\n",
      "Calculating monotonicity for:  or(subset_eq(B, index(1, A)), equals(cardinality(A), cardinality(B)))\n",
      "Calculating monotonicity for:  or(subset_eq(B, index(1, A)), greater_than(cardinality(B), 1))\n",
      "Calculating monotonicity for:  or(subset_eq(B, index(1, A)), greater_than(cardinality(B), cardinality(A)))\n",
      "Calculating monotonicity for:  or(subset_eq(index(1, A), B), subset_eq(index(1, B), A))\n",
      "Calculating monotonicity for:  or(subset_eq(index(1, A), B), subset_eq(intersection(A, B), index(1, B)))\n",
      "Calculating monotonicity for:  or(subset_eq(index(1, A), B), subset_eq(difference(A, B), index(1, A)))\n",
      "Calculating monotonicity for:  or(subset_eq(index(1, A), B), subset_eq(difference(B, A), index(1, B)))\n",
      "Calculating monotonicity for:  or(subset_eq(index(1, A), B), subset_eq(index(1, B), difference(A, A)))\n",
      "Calculating monotonicity for:  or(subset_eq(index(1, A), B), subset_eq(index(1, B), difference(B, A)))\n",
      "Calculating monotonicity for:  or(subset_eq(index(1, A), B), equals(1, cardinality(B)))\n",
      "Calculating monotonicity for:  or(subset_eq(index(1, A), B), equals(cardinality(A), cardinality(B)))\n",
      "Calculating monotonicity for:  subset_eq(index(cardinality(B), index(1, A)), B)\n",
      "Calculating monotonicity for:  or(subset_eq(index(1, A), B), greater_than(cardinality(B), 1))\n",
      "Calculating monotonicity for:  or(subset_eq(index(1, B), A), subset_eq(intersection(A, B), index(1, A)))\n",
      "Calculating monotonicity for:  or(subset_eq(index(1, B), A), subset_eq(difference(A, B), index(1, A)))\n",
      "Calculating monotonicity for:  or(subset_eq(index(1, B), A), subset_eq(difference(B, A), index(1, B)))\n",
      "Calculating monotonicity for:  or(subset_eq(index(1, B), A), subset_eq(index(1, A), difference(A, A)))\n",
      "Calculating monotonicity for:  or(subset_eq(index(1, B), A), subset_eq(index(1, A), difference(A, B)))\n",
      "Calculating monotonicity for:  or(subset_eq(index(1, B), A), equals(1, cardinality(A)))\n",
      "Calculating monotonicity for:  or(subset_eq(index(1, B), A), equals(cardinality(A), cardinality(B)))\n",
      "Calculating monotonicity for:  subset_eq(index(cardinality(A), index(1, B)), A)\n",
      "Calculating monotonicity for:  or(subset_eq(index(1, B), A), greater_than(cardinality(A), 1))\n",
      "Calculating monotonicity for:  or(subset_eq(union(A, B), difference(A, A)), equals(1, cardinality(A)))\n",
      "Calculating monotonicity for:  or(subset_eq(union(A, B), difference(A, A)), equals(1, cardinality(B)))\n",
      "Calculating monotonicity for:  or(subset_eq(union(A, B), difference(A, A)), greater_than(cardinality(A), 1))\n",
      "Calculating monotonicity for:  or(subset_eq(union(A, B), difference(A, A)), greater_than(cardinality(B), 1))\n",
      "Calculating monotonicity for:  or(subset_eq(intersection(A, B), index(1, A)), subset_eq(intersection(A, B), index(1, B)))\n",
      "Calculating monotonicity for:  or(subset_eq(intersection(A, B), index(1, A)), subset_eq(difference(A, B), index(1, A)))\n",
      "Calculating monotonicity for:  or(subset_eq(intersection(A, B), index(1, A)), subset_eq(difference(B, A), index(1, B)))\n",
      "Calculating monotonicity for:  or(subset_eq(intersection(A, B), index(1, A)), equals(1, cardinality(A)))\n",
      "Calculating monotonicity for:  or(subset_eq(intersection(A, B), index(1, A)), subset_eq(index(1, A), difference(A, B)))\n",
      "Calculating monotonicity for:  or(subset_eq(intersection(A, B), index(1, A)), subset_eq(index(1, A), index(1, B)))\n",
      "Calculating monotonicity for:  or(subset_eq(intersection(A, B), index(1, A)), equals(1, cardinality(B)))\n",
      "Calculating monotonicity for:  or(subset_eq(intersection(A, B), index(1, A)), subset_eq(index(1, B), difference(B, A)))\n",
      "Calculating monotonicity for:  or(subset_eq(intersection(A, B), index(1, A)), subset_eq(index(1, B), index(1, A)))\n",
      "Calculating monotonicity for:  or(subset_eq(intersection(A, B), index(1, A)), equals(cardinality(A), cardinality(B)))\n",
      "Calculating monotonicity for:  or(subset_eq(intersection(A, B), index(1, A)), greater_than(cardinality(B), 1))\n",
      "Calculating monotonicity for:  or(subset_eq(intersection(A, B), index(1, A)), greater_than(cardinality(A), cardinality(B)))\n",
      "Calculating monotonicity for:  or(subset_eq(intersection(A, B), index(1, A)), greater_than(cardinality(B), cardinality(A)))\n",
      "Calculating monotonicity for:  or(subset_eq(intersection(A, B), index(1, B)), subset_eq(difference(A, B), index(1, A)))\n",
      "Calculating monotonicity for:  or(subset_eq(intersection(A, B), index(1, B)), subset_eq(difference(B, A), index(1, B)))\n",
      "Calculating monotonicity for:  or(subset_eq(intersection(A, B), index(1, B)), equals(1, cardinality(A)))\n",
      "Calculating monotonicity for:  or(subset_eq(intersection(A, B), index(1, B)), subset_eq(index(1, A), difference(A, B)))\n",
      "Calculating monotonicity for:  or(subset_eq(intersection(A, B), index(1, B)), subset_eq(index(1, A), index(1, B)))\n",
      "Calculating monotonicity for:  or(subset_eq(intersection(A, B), index(1, B)), equals(1, cardinality(B)))\n",
      "Calculating monotonicity for:  or(subset_eq(intersection(A, B), index(1, B)), subset_eq(index(1, B), difference(B, A)))\n",
      "Calculating monotonicity for:  or(subset_eq(intersection(A, B), index(1, B)), subset_eq(index(1, B), index(1, A)))\n",
      "Calculating monotonicity for:  or(subset_eq(intersection(A, B), index(1, B)), equals(cardinality(A), cardinality(B)))\n",
      "Calculating monotonicity for:  or(subset_eq(intersection(A, B), index(1, B)), greater_than(cardinality(A), 1))\n",
      "Calculating monotonicity for:  or(subset_eq(intersection(A, B), index(1, B)), greater_than(cardinality(A), cardinality(B)))\n",
      "Calculating monotonicity for:  or(subset_eq(intersection(A, B), index(1, B)), greater_than(cardinality(B), cardinality(A)))\n",
      "Calculating monotonicity for:  or(subset_eq(difference(A, B), index(1, A)), subset_eq(difference(B, A), index(1, B)))\n",
      "Calculating monotonicity for:  or(subset_eq(difference(A, B), index(1, A)), equals(1, cardinality(A)))\n",
      "Calculating monotonicity for:  or(subset_eq(difference(A, B), index(1, A)), subset_eq(index(1, A), index(1, B)))\n",
      "Calculating monotonicity for:  or(subset_eq(difference(A, B), index(1, A)), subset_eq(index(1, B), difference(A, A)))\n",
      "Calculating monotonicity for:  or(subset_eq(difference(A, B), index(1, A)), subset_eq(index(1, B), difference(B, A)))\n",
      "Calculating monotonicity for:  or(subset_eq(difference(A, B), index(1, A)), subset_eq(index(1, B), index(1, A)))\n",
      "Calculating monotonicity for:  or(subset_eq(difference(A, B), index(1, A)), equals(1, cardinality(B)))\n",
      "Calculating monotonicity for:  or(subset_eq(difference(A, B), index(1, A)), equals(cardinality(A), cardinality(B)))\n",
      "Calculating monotonicity for:  or(subset_eq(difference(A, B), index(1, A)), greater_than(cardinality(B), 1))\n",
      "Calculating monotonicity for:  or(subset_eq(difference(A, B), index(1, A)), greater_than(cardinality(A), cardinality(B)))\n",
      "Calculating monotonicity for:  or(subset_eq(difference(A, B), index(1, A)), greater_than(cardinality(B), cardinality(A)))\n",
      "Calculating monotonicity for:  or(subset_eq(difference(B, A), index(1, B)), subset_eq(index(1, A), difference(A, A)))\n",
      "Calculating monotonicity for:  or(subset_eq(difference(B, A), index(1, B)), subset_eq(index(1, A), difference(A, B)))\n",
      "Calculating monotonicity for:  or(subset_eq(difference(B, A), index(1, B)), subset_eq(index(1, A), index(1, B)))\n",
      "Calculating monotonicity for:  or(subset_eq(difference(B, A), index(1, B)), equals(1, cardinality(B)))\n",
      "Calculating monotonicity for:  or(subset_eq(difference(B, A), index(1, B)), subset_eq(index(1, B), index(1, A)))\n",
      "Calculating monotonicity for:  or(subset_eq(difference(B, A), index(1, B)), equals(1, cardinality(A)))\n",
      "Calculating monotonicity for:  or(subset_eq(difference(B, A), index(1, B)), equals(cardinality(A), cardinality(B)))\n",
      "Calculating monotonicity for:  or(subset_eq(difference(B, A), index(1, B)), greater_than(cardinality(A), 1))\n",
      "Calculating monotonicity for:  or(subset_eq(difference(B, A), index(1, B)), greater_than(cardinality(A), cardinality(B)))\n",
      "Calculating monotonicity for:  or(subset_eq(difference(B, A), index(1, B)), greater_than(cardinality(B), cardinality(A)))\n",
      "Calculating monotonicity for:  or(subset_eq(index(1, A), difference(A, A)), subset_eq(index(1, B), difference(A, A)))\n",
      "Calculating monotonicity for:  or(subset_eq(index(1, A), difference(A, A)), subset_eq(index(1, B), index(1, A)))\n",
      "Calculating monotonicity for:  subset_eq(index(1, A), index(cardinality(B), A))\n",
      "Calculating monotonicity for:  or(subset_eq(index(1, A), difference(A, A)), equals(cardinality(A), cardinality(B)))\n",
      "Calculating monotonicity for:  or(subset_eq(index(1, A), difference(A, A)), greater_than(cardinality(B), 1))\n",
      "Calculating monotonicity for:  or(subset_eq(index(1, A), difference(A, A)), greater_than(cardinality(A), cardinality(B)))\n",
      "Calculating monotonicity for:  or(subset_eq(index(1, A), difference(A, A)), greater_than(cardinality(B), cardinality(A)))\n",
      "Calculating monotonicity for:  subset_eq(intersection(B, index(1, A)), index(1, B))\n",
      "Calculating monotonicity for:  or(subset_eq(index(1, A), difference(A, B)), subset_eq(index(1, B), difference(B, A)))\n",
      "Calculating monotonicity for:  or(subset_eq(index(1, A), difference(A, B)), subset_eq(index(1, B), index(1, A)))\n",
      "Calculating monotonicity for:  or(subset_eq(index(1, A), difference(A, B)), equals(cardinality(A), cardinality(B)))\n",
      "Calculating monotonicity for:  or(subset_eq(index(1, A), difference(A, B)), greater_than(cardinality(B), 1))\n",
      "Calculating monotonicity for:  or(subset_eq(index(1, A), difference(A, B)), greater_than(cardinality(A), cardinality(B)))\n",
      "Calculating monotonicity for:  or(subset_eq(index(1, A), difference(A, B)), greater_than(cardinality(B), cardinality(A)))\n",
      "Calculating monotonicity for:  or(subset_eq(index(1, A), index(1, B)), subset_eq(index(1, B), difference(B, A)))\n",
      "Calculating monotonicity for:  or(subset_eq(index(1, A), index(1, B)), equals(1, cardinality(B)))\n",
      "Calculating monotonicity for:  or(subset_eq(index(1, A), index(1, B)), equals(cardinality(A), cardinality(B)))\n",
      "Calculating monotonicity for:  or(subset_eq(index(1, A), index(1, B)), greater_than(cardinality(A), cardinality(B)))\n",
      "Calculating monotonicity for:  subset_eq(index(1, B), index(cardinality(A), B))\n",
      "Calculating monotonicity for:  or(subset_eq(index(1, B), difference(A, A)), equals(cardinality(A), cardinality(B)))\n",
      "Calculating monotonicity for:  or(subset_eq(index(1, B), difference(A, A)), greater_than(cardinality(A), 1))\n",
      "Calculating monotonicity for:  or(subset_eq(index(1, B), difference(A, A)), greater_than(cardinality(A), cardinality(B)))\n",
      "Calculating monotonicity for:  or(subset_eq(index(1, B), difference(A, A)), greater_than(cardinality(B), cardinality(A)))\n",
      "Calculating monotonicity for:  subset_eq(intersection(A, index(1, B)), index(1, A))\n",
      "Calculating monotonicity for:  or(subset_eq(index(1, B), difference(B, A)), equals(cardinality(A), cardinality(B)))\n",
      "Calculating monotonicity for:  or(subset_eq(index(1, B), difference(B, A)), greater_than(cardinality(A), 1))\n",
      "Calculating monotonicity for:  or(subset_eq(index(1, B), difference(B, A)), greater_than(cardinality(A), cardinality(B)))\n",
      "Calculating monotonicity for:  or(subset_eq(index(1, B), difference(B, A)), greater_than(cardinality(B), cardinality(A)))\n",
      "Calculating monotonicity for:  or(subset_eq(index(1, B), index(1, A)), equals(1, cardinality(A)))\n",
      "Calculating monotonicity for:  or(subset_eq(index(1, B), index(1, A)), equals(cardinality(A), cardinality(B)))\n",
      "Calculating monotonicity for:  or(subset_eq(index(1, B), index(1, A)), greater_than(cardinality(B), cardinality(A)))\n",
      "Calculating monotonicity for:  or(equals(1, cardinality(A)), equals(1, cardinality(B)))\n",
      "Calculating monotonicity for:  or(equals(1, cardinality(A)), equals(cardinality(A), cardinality(B)))\n",
      "Calculating monotonicity for:  or(equals(1, cardinality(A)), greater_than(cardinality(B), 0))\n",
      "Calculating monotonicity for:  or(equals(1, cardinality(A)), greater_than(cardinality(B), 1))\n",
      "Calculating monotonicity for:  or(equals(1, cardinality(A)), greater_than(cardinality(A), cardinality(B)))\n",
      "Calculating monotonicity for:  or(equals(1, cardinality(A)), greater_than(cardinality(B), cardinality(A)))\n",
      "Calculating monotonicity for:  or(equals(1, cardinality(B)), equals(cardinality(A), cardinality(B)))\n",
      "Calculating monotonicity for:  or(equals(1, cardinality(B)), greater_than(cardinality(A), 0))\n",
      "Calculating monotonicity for:  or(equals(1, cardinality(B)), greater_than(cardinality(A), 1))\n",
      "Calculating monotonicity for:  or(equals(1, cardinality(B)), greater_than(cardinality(A), cardinality(B)))\n",
      "Calculating monotonicity for:  or(equals(1, cardinality(B)), greater_than(cardinality(B), cardinality(A)))\n",
      "Calculating monotonicity for:  or(equals(cardinality(A), cardinality(B)), greater_than(cardinality(A), 1))\n",
      "Calculating monotonicity for:  or(equals(cardinality(A), cardinality(B)), greater_than(cardinality(B), 1))\n",
      "Calculating monotonicity for:  not(greater_than(cardinality(B), cardinality(A)))\n",
      "Calculating monotonicity for:  not(greater_than(cardinality(A), cardinality(B)))\n",
      "Calculating monotonicity for:  or(greater_than(cardinality(A), 0), greater_than(cardinality(B), 1))\n",
      "Calculating monotonicity for:  or(greater_than(cardinality(A), 1), greater_than(cardinality(B), 0))\n",
      "Calculating monotonicity for:  or(greater_than(cardinality(A), 1), greater_than(cardinality(B), 1))\n",
      "Calculating monotonicity for:  or(greater_than(cardinality(A), 1), greater_than(cardinality(A), cardinality(B)))\n",
      "Calculating monotonicity for:  or(greater_than(cardinality(A), 1), greater_than(cardinality(B), cardinality(A)))\n",
      "Calculating monotonicity for:  or(greater_than(cardinality(B), 1), greater_than(cardinality(A), cardinality(B)))\n",
      "Calculating monotonicity for:  or(greater_than(cardinality(B), 1), greater_than(cardinality(B), cardinality(A)))\n",
      "Calculating monotonicity for:  not(equals(cardinality(A), cardinality(B)))\n",
      "Calculating monotonicity for:  not(subset_eq(A, difference(A, B)))\n",
      "Calculating monotonicity for:  not(subset_eq(A, index(1, B)))\n",
      "Calculating monotonicity for:  not(subset_eq(B, index(1, A)))\n",
      "Calculating monotonicity for:  not(subset_eq(intersection(A, B), index(1, A)))\n",
      "Calculating monotonicity for:  not(subset_eq(intersection(A, B), index(1, B)))\n",
      "Calculating monotonicity for:  not(subset_eq(difference(A, B), index(1, A)))\n",
      "Calculating monotonicity for:  not(subset_eq(difference(B, A), index(1, B)))\n",
      "Calculating monotonicity for:  not(subset_eq(index(1, A), index(1, B)))\n",
      "Calculating monotonicity for:  not(subset_eq(index(1, B), index(1, A)))\n",
      "Calculating monotonicity for:  subset_eq(A, union(index(1, A), index(1, B)))\n",
      "Calculating monotonicity for:  subset_eq(A, index(1, union(A, B)))\n",
      "Calculating monotonicity for:  subset_eq(A, index(cardinality(B), A))\n",
      "Calculating monotonicity for:  subset_eq(B, union(index(1, A), index(1, B)))\n",
      "Calculating monotonicity for:  subset_eq(B, index(1, union(A, B)))\n",
      "Calculating monotonicity for:  subset_eq(B, index(cardinality(A), B))\n",
      "Calculating monotonicity for:  subset_eq(intersection(A, B), union(index(1, A), index(1, B)))\n",
      "Calculating monotonicity for:  subset_eq(intersection(A, B), index(1, union(A, B)))\n",
      "Calculating monotonicity for:  subset_eq(difference(A, B), index(1, union(A, B)))\n",
      "Calculating monotonicity for:  subset_eq(difference(A, B), index(cardinality(B), A))\n",
      "Calculating monotonicity for:  subset_eq(difference(A, B), index(cardinality(B), difference(A, B)))\n",
      "Calculating monotonicity for:  subset_eq(difference(B, A), index(1, union(A, B)))\n",
      "Calculating monotonicity for:  subset_eq(difference(B, A), index(cardinality(A), B))\n",
      "Calculating monotonicity for:  subset_eq(difference(B, A), index(cardinality(A), difference(B, A)))\n",
      "Calculating monotonicity for:  subset_eq(index(1, A), difference(A, index(1, B)))\n",
      "Calculating monotonicity for:  subset_eq(index(1, A), difference(intersection(A, B), index(1, B)))\n",
      "Calculating monotonicity for:  subset_eq(index(1, A), index(1, union(A, B)))\n",
      "Calculating monotonicity for:  subset_eq(index(1, A), index(1, intersection(A, B)))\n",
      "Calculating monotonicity for:  subset_eq(index(1, A), index(1, difference(A, B)))\n",
      "Calculating monotonicity for:  subset_eq(index(1, A), index(cardinality(A), B))\n",
      "Calculating monotonicity for:  subset_eq(index(1, A), index(cardinality(B), difference(A, B)))\n",
      "Calculating monotonicity for:  subset_eq(index(1, B), difference(intersection(A, B), index(1, A)))\n",
      "Calculating monotonicity for:  subset_eq(index(1, B), index(1, union(A, B)))\n",
      "Calculating monotonicity for:  subset_eq(index(1, B), index(1, intersection(A, B)))\n",
      "Calculating monotonicity for:  subset_eq(index(1, B), index(1, difference(B, A)))\n",
      "Calculating monotonicity for:  subset_eq(index(1, B), index(cardinality(B), A))\n",
      "Calculating monotonicity for:  subset_eq(index(1, B), index(cardinality(A), difference(B, A)))\n",
      "Calculating monotonicity for:  subset_eq(index(1, union(A, B)), A)\n",
      "Calculating monotonicity for:  subset_eq(index(1, union(A, B)), B)\n",
      "Calculating monotonicity for:  subset_eq(index(1, difference(A, B)), B)\n",
      "Calculating monotonicity for:  subset_eq(index(1, difference(B, A)), A)\n",
      "Calculating monotonicity for:  subset_eq(index(cardinality(A), B), A)\n",
      "Calculating monotonicity for:  subset_eq(index(cardinality(B), A), B)\n",
      "Calculating monotonicity for:  subset_eq(index(cardinality(A), difference(B, A)), A)\n",
      "Calculating monotonicity for:  subset_eq(index(cardinality(B), difference(A, B)), B)\n",
      "Calculating monotonicity for:  subset_eq(index(1, union(A, B)), intersection(A, B))\n",
      "Calculating monotonicity for:  subset_eq(index(1, union(A, B)), difference(A, A))\n",
      "Calculating monotonicity for:  subset_eq(index(1, union(A, B)), difference(A, B))\n",
      "Calculating monotonicity for:  subset_eq(index(1, union(A, B)), difference(B, A))\n",
      "Calculating monotonicity for:  subset_eq(index(1, union(A, B)), index(1, A))\n",
      "Calculating monotonicity for:  subset_eq(index(1, union(A, B)), index(1, B))\n",
      "Calculating monotonicity for:  subset_eq(index(1, intersection(A, B)), difference(A, A))\n",
      "Calculating monotonicity for:  subset_eq(index(1, difference(A, B)), index(1, A))\n",
      "Calculating monotonicity for:  subset_eq(index(1, difference(B, A)), index(1, B))\n",
      "Calculating monotonicity for:  subset_eq(index(cardinality(A), B), difference(B, A))\n",
      "Calculating monotonicity for:  subset_eq(index(cardinality(A), B), index(1, A))\n",
      "Calculating monotonicity for:  subset_eq(index(cardinality(A), B), index(1, B))\n",
      "Calculating monotonicity for:  subset_eq(index(cardinality(B), A), difference(A, B))\n",
      "Calculating monotonicity for:  subset_eq(index(cardinality(B), A), index(1, A))\n",
      "Calculating monotonicity for:  subset_eq(index(cardinality(B), A), index(1, B))\n",
      "Calculating monotonicity for:  subset_eq(index(cardinality(A), difference(B, A)), index(1, B))\n",
      "Calculating monotonicity for:  subset_eq(index(cardinality(B), difference(A, B)), index(1, A))\n",
      "Calculating monotonicity for:  subset_eq(union(A, index(1, B)), difference(intersection(A, B), index(1, A)))\n",
      "Calculating monotonicity for:  subset_eq(union(A, index(1, B)), difference(difference(A, B), index(1, A)))\n",
      "Calculating monotonicity for:  subset_eq(union(A, index(1, B)), index(1, union(A, B)))\n",
      "Calculating monotonicity for:  subset_eq(union(A, index(1, B)), index(cardinality(B), A))\n",
      "Calculating monotonicity for:  subset_eq(union(B, index(1, A)), difference(intersection(A, B), index(1, B)))\n",
      "Calculating monotonicity for:  subset_eq(union(B, index(1, A)), index(1, union(A, B)))\n",
      "Calculating monotonicity for:  subset_eq(union(intersection(A, B), index(1, A)), index(1, union(A, B)))\n",
      "Calculating monotonicity for:  subset_eq(union(intersection(A, B), index(1, A)), index(cardinality(B), A))\n",
      "Calculating monotonicity for:  subset_eq(union(intersection(A, B), index(1, A)), index(cardinality(B), difference(A, B)))\n",
      "Calculating monotonicity for:  subset_eq(union(intersection(A, B), index(1, A)), index(cardinality(B), index(1, A)))\n",
      "Calculating monotonicity for:  subset_eq(union(intersection(A, B), index(1, B)), index(1, union(A, B)))\n",
      "Calculating monotonicity for:  subset_eq(union(intersection(A, B), index(1, B)), index(cardinality(A), B))\n",
      "Calculating monotonicity for:  subset_eq(union(intersection(A, B), index(1, B)), index(cardinality(A), difference(B, A)))\n",
      "Calculating monotonicity for:  subset_eq(union(intersection(A, B), index(1, B)), index(cardinality(A), index(1, B)))\n",
      "Calculating monotonicity for:  subset_eq(union(difference(A, B), difference(B, A)), index(1, union(A, B)))\n",
      "Calculating monotonicity for:  subset_eq(union(difference(A, B), difference(B, A)), index(cardinality(A), B))\n",
      "Calculating monotonicity for:  subset_eq(union(difference(A, B), difference(B, A)), index(cardinality(B), A))\n",
      "Calculating monotonicity for:  subset_eq(union(difference(A, B), difference(B, A)), index(cardinality(A), difference(B, A)))\n",
      "Calculating monotonicity for:  subset_eq(union(difference(A, B), difference(B, A)), index(cardinality(B), difference(A, B)))\n",
      "Calculating monotonicity for:  subset_eq(union(difference(A, B), index(1, A)), index(cardinality(A), B))\n",
      "Calculating monotonicity for:  subset_eq(union(difference(A, B), index(1, A)), difference(index(1, A), index(1, B)))\n",
      "Calculating monotonicity for:  subset_eq(union(difference(A, B), index(1, A)), index(1, union(A, B)))\n",
      "Calculating monotonicity for:  subset_eq(union(difference(A, B), index(1, A)), index(cardinality(B), A))\n",
      "Calculating monotonicity for:  subset_eq(union(difference(A, B), index(1, B)), union(difference(B, A), index(1, A)))\n",
      "Calculating monotonicity for:  subset_eq(union(difference(A, B), index(1, B)), difference(intersection(A, B), index(1, A)))\n",
      "Calculating monotonicity for:  subset_eq(union(difference(A, B), index(1, B)), index(1, union(A, B)))\n",
      "Calculating monotonicity for:  subset_eq(union(difference(A, B), index(1, B)), index(1, difference(B, A)))\n",
      "Calculating monotonicity for:  subset_eq(union(difference(A, B), index(1, B)), index(cardinality(A), B))\n",
      "Calculating monotonicity for:  subset_eq(union(difference(A, B), index(1, B)), index(cardinality(B), A))\n",
      "Calculating monotonicity for:  subset_eq(union(difference(A, B), index(1, B)), index(cardinality(A), difference(B, A)))\n",
      "Calculating monotonicity for:  subset_eq(union(difference(A, B), index(1, B)), index(cardinality(A), index(1, B)))\n",
      "Calculating monotonicity for:  subset_eq(union(difference(B, A), index(1, A)), union(difference(A, B), index(1, B)))\n",
      "Calculating monotonicity for:  subset_eq(union(difference(B, A), index(1, B)), index(cardinality(B), A))\n",
      "Calculating monotonicity for:  subset_eq(union(difference(B, A), index(1, A)), difference(intersection(A, B), index(1, B)))\n",
      "Calculating monotonicity for:  subset_eq(union(difference(B, A), index(1, A)), index(1, union(A, B)))\n",
      "Calculating monotonicity for:  subset_eq(union(difference(B, A), index(1, A)), index(1, difference(A, B)))\n",
      "Calculating monotonicity for:  subset_eq(union(difference(B, A), index(1, A)), index(cardinality(A), B))\n",
      "Calculating monotonicity for:  subset_eq(union(difference(B, A), index(1, A)), index(cardinality(B), A))\n",
      "Calculating monotonicity for:  subset_eq(union(difference(B, A), index(1, A)), index(cardinality(B), difference(A, B)))\n",
      "Calculating monotonicity for:  subset_eq(union(difference(B, A), index(1, A)), index(cardinality(B), index(1, A)))\n",
      "Calculating monotonicity for:  subset_eq(union(difference(B, A), index(1, B)), difference(index(1, B), index(1, A)))\n",
      "Calculating monotonicity for:  subset_eq(union(difference(B, A), index(1, B)), index(1, union(A, B)))\n",
      "Calculating monotonicity for:  subset_eq(union(difference(B, A), index(1, B)), index(cardinality(A), B))\n",
      "Calculating monotonicity for:  subset_eq(union(index(1, A), index(1, B)), index(1, union(A, B)))\n",
      "Calculating monotonicity for:  subset_eq(union(index(1, A), index(1, B)), index(1, intersection(A, B)))\n",
      "Calculating monotonicity for:  subset_eq(union(index(1, A), index(1, B)), index(1, difference(A, B)))\n",
      "Calculating monotonicity for:  subset_eq(union(index(1, A), index(1, B)), index(1, difference(B, A)))\n",
      "Calculating monotonicity for:  subset_eq(union(index(1, A), index(1, B)), index(cardinality(A), B))\n",
      "Calculating monotonicity for:  subset_eq(union(index(1, A), index(1, B)), index(cardinality(B), A))\n",
      "Calculating monotonicity for:  subset_eq(union(index(1, A), index(1, B)), index(cardinality(A), difference(B, A)))\n",
      "Calculating monotonicity for:  subset_eq(union(index(1, A), index(1, B)), index(cardinality(A), index(1, B)))\n",
      "Calculating monotonicity for:  subset_eq(union(index(1, A), index(1, B)), index(cardinality(B), difference(A, B)))\n",
      "Calculating monotonicity for:  subset_eq(union(index(1, A), index(1, B)), index(cardinality(B), index(1, A)))\n",
      "Calculating monotonicity for:  subset_eq(intersection(A, index(1, B)), index(1, union(A, B)))\n",
      "Calculating monotonicity for:  subset_eq(intersection(A, index(1, B)), index(1, intersection(A, B)))\n",
      "Calculating monotonicity for:  subset_eq(intersection(A, index(1, B)), index(cardinality(B), A))\n",
      "Calculating monotonicity for:  subset_eq(intersection(B, index(1, A)), index(1, union(A, B)))\n",
      "Calculating monotonicity for:  subset_eq(intersection(B, index(1, A)), index(1, intersection(A, B)))\n",
      "Calculating monotonicity for:  subset_eq(intersection(B, index(1, A)), index(cardinality(A), B))\n",
      "Calculating monotonicity for:  subset_eq(difference(index(1, A), B), index(1, union(A, B)))\n",
      "Calculating monotonicity for:  subset_eq(difference(index(1, A), B), index(1, difference(A, B)))\n",
      "Calculating monotonicity for:  subset_eq(difference(index(1, A), B), index(cardinality(B), difference(A, B)))\n",
      "Calculating monotonicity for:  subset_eq(difference(index(1, B), A), index(1, union(A, B)))\n",
      "Calculating monotonicity for:  subset_eq(difference(index(1, B), A), index(1, difference(B, A)))\n",
      "Calculating monotonicity for:  subset_eq(difference(index(1, B), A), index(cardinality(A), difference(B, A)))\n",
      "Calculating monotonicity for:  subset_eq(intersection(index(1, A), index(1, B)), index(1, union(A, B)))\n",
      "Calculating monotonicity for:  subset_eq(difference(A, index(1, B)), index(cardinality(A), B))\n",
      "Calculating monotonicity for:  subset_eq(difference(A, index(1, B)), index(1, union(A, B)))\n",
      "Calculating monotonicity for:  subset_eq(difference(A, index(1, B)), index(cardinality(B), A))\n",
      "Calculating monotonicity for:  subset_eq(difference(B, index(1, A)), index(cardinality(B), A))\n",
      "Calculating monotonicity for:  subset_eq(difference(B, index(1, A)), index(1, union(A, B)))\n",
      "Calculating monotonicity for:  subset_eq(difference(B, index(1, A)), index(cardinality(A), B))\n",
      "Calculating monotonicity for:  subset_eq(difference(intersection(A, B), index(1, A)), index(1, union(A, B)))\n",
      "Calculating monotonicity for:  subset_eq(difference(intersection(A, B), index(1, A)), index(cardinality(B), A))\n",
      "Calculating monotonicity for:  subset_eq(difference(intersection(A, B), index(1, B)), index(1, union(A, B)))\n",
      "Calculating monotonicity for:  subset_eq(difference(intersection(A, B), index(1, B)), index(cardinality(A), B))\n",
      "Calculating monotonicity for:  subset_eq(difference(difference(A, B), index(1, A)), index(1, union(A, B)))\n",
      "Calculating monotonicity for:  subset_eq(difference(difference(A, B), index(1, A)), index(1, difference(A, B)))\n",
      "Calculating monotonicity for:  subset_eq(difference(difference(A, B), index(1, A)), index(cardinality(B), A))\n",
      "Calculating monotonicity for:  subset_eq(difference(difference(A, B), index(1, A)), index(cardinality(B), difference(A, B)))\n",
      "Calculating monotonicity for:  subset_eq(difference(difference(B, A), index(1, B)), index(1, union(A, B)))\n",
      "Calculating monotonicity for:  subset_eq(difference(difference(B, A), index(1, B)), index(1, difference(B, A)))\n",
      "Calculating monotonicity for:  subset_eq(difference(difference(B, A), index(1, B)), index(cardinality(A), B))\n",
      "Calculating monotonicity for:  subset_eq(difference(difference(B, A), index(1, B)), index(cardinality(A), difference(B, A)))\n",
      "Calculating monotonicity for:  subset_eq(difference(index(1, A), index(1, B)), index(1, union(A, B)))\n",
      "Calculating monotonicity for:  subset_eq(difference(index(1, A), index(1, B)), index(1, difference(A, B)))\n",
      "Calculating monotonicity for:  subset_eq(difference(index(1, A), index(1, B)), index(cardinality(B), difference(A, B)))\n",
      "Calculating monotonicity for:  subset_eq(difference(index(1, B), index(1, A)), index(1, union(A, B)))\n",
      "Calculating monotonicity for:  subset_eq(difference(index(1, B), index(1, A)), index(1, difference(B, A)))\n",
      "Calculating monotonicity for:  subset_eq(difference(index(1, B), index(1, A)), index(cardinality(A), difference(B, A)))\n",
      "Calculating monotonicity for:  subset_eq(index(1, union(A, B)), union(A, index(1, B)))\n",
      "Calculating monotonicity for:  subset_eq(index(1, union(A, B)), union(B, index(1, A)))\n",
      "Calculating monotonicity for:  subset_eq(index(1, union(A, B)), union(intersection(A, B), index(1, A)))\n",
      "Calculating monotonicity for:  subset_eq(index(1, union(A, B)), union(intersection(A, B), index(1, B)))\n",
      "Calculating monotonicity for:  subset_eq(index(1, union(A, B)), union(difference(A, B), difference(B, A)))\n",
      "Calculating monotonicity for:  subset_eq(index(1, union(A, B)), union(difference(A, B), index(1, A)))\n",
      "Calculating monotonicity for:  subset_eq(index(1, union(A, B)), union(difference(A, B), index(1, B)))\n",
      "Calculating monotonicity for:  subset_eq(index(1, union(A, B)), union(difference(B, A), index(1, A)))\n",
      "Calculating monotonicity for:  subset_eq(index(1, union(A, B)), union(difference(B, A), index(1, B)))\n",
      "Calculating monotonicity for:  subset_eq(index(1, union(A, B)), union(index(1, A), index(1, B)))\n",
      "Calculating monotonicity for:  subset_eq(index(1, union(A, B)), intersection(A, index(1, B)))\n",
      "Calculating monotonicity for:  subset_eq(index(1, union(A, B)), intersection(B, index(1, A)))\n",
      "Calculating monotonicity for:  subset_eq(index(1, union(A, B)), difference(index(1, A), B))\n",
      "Calculating monotonicity for:  subset_eq(index(1, union(A, B)), difference(index(1, B), A))\n",
      "Calculating monotonicity for:  subset_eq(index(1, union(A, B)), index(1, intersection(A, B)))\n",
      "Calculating monotonicity for:  subset_eq(index(1, union(A, B)), difference(A, index(1, B)))\n",
      "Calculating monotonicity for:  subset_eq(index(1, union(A, B)), difference(B, index(1, A)))\n",
      "Calculating monotonicity for:  subset_eq(index(1, union(A, B)), difference(intersection(A, B), index(1, A)))\n",
      "Calculating monotonicity for:  subset_eq(index(1, union(A, B)), difference(intersection(A, B), index(1, B)))\n",
      "Calculating monotonicity for:  subset_eq(index(1, union(A, B)), difference(difference(A, B), index(1, A)))\n",
      "Calculating monotonicity for:  subset_eq(index(1, union(A, B)), difference(difference(B, A), index(1, B)))\n",
      "Calculating monotonicity for:  subset_eq(index(1, union(A, B)), difference(index(1, A), index(1, B)))\n",
      "Calculating monotonicity for:  subset_eq(index(1, union(A, B)), difference(index(1, B), index(1, A)))\n",
      "Calculating monotonicity for:  subset_eq(index(1, union(A, B)), index(1, difference(A, B)))\n",
      "Calculating monotonicity for:  subset_eq(index(1, union(A, B)), index(1, difference(B, A)))\n",
      "Calculating monotonicity for:  subset_eq(index(1, union(A, B)), index(cardinality(A), B))\n",
      "Calculating monotonicity for:  subset_eq(index(1, union(A, B)), index(cardinality(B), A))\n",
      "Calculating monotonicity for:  subset_eq(index(1, union(A, B)), index(cardinality(A), difference(B, A)))\n",
      "Calculating monotonicity for:  subset_eq(index(1, union(A, B)), index(cardinality(A), index(1, B)))\n",
      "Calculating monotonicity for:  subset_eq(index(1, union(A, B)), index(cardinality(B), difference(A, B)))\n",
      "Calculating monotonicity for:  subset_eq(index(1, union(A, B)), index(cardinality(B), index(1, A)))\n",
      "Calculating monotonicity for:  subset_eq(index(1, intersection(A, B)), index(1, union(A, B)))\n",
      "Calculating monotonicity for:  subset_eq(index(1, intersection(A, B)), index(cardinality(A), B))\n",
      "Calculating monotonicity for:  subset_eq(index(1, intersection(A, B)), index(cardinality(B), A))\n",
      "Calculating monotonicity for:  subset_eq(index(1, difference(A, B)), difference(difference(A, B), index(1, A)))\n",
      "Calculating monotonicity for:  subset_eq(index(1, difference(A, B)), index(1, union(A, B)))\n",
      "Calculating monotonicity for:  subset_eq(index(1, difference(A, B)), index(cardinality(B), A))\n",
      "Calculating monotonicity for:  subset_eq(index(1, difference(A, B)), index(cardinality(B), index(1, A)))\n",
      "Calculating monotonicity for:  subset_eq(index(1, difference(B, A)), difference(difference(B, A), index(1, B)))\n",
      "Calculating monotonicity for:  subset_eq(index(1, difference(B, A)), index(1, union(A, B)))\n",
      "Calculating monotonicity for:  subset_eq(index(1, difference(B, A)), index(cardinality(A), B))\n",
      "Calculating monotonicity for:  subset_eq(index(1, difference(B, A)), index(cardinality(A), index(1, B)))\n",
      "Calculating monotonicity for:  subset_eq(index(cardinality(A), B), union(A, index(1, B)))\n",
      "Calculating monotonicity for:  subset_eq(index(cardinality(A), B), intersection(A, index(1, B)))\n",
      "Calculating monotonicity for:  subset_eq(index(cardinality(A), B), difference(index(1, B), A))\n",
      "Calculating monotonicity for:  subset_eq(index(cardinality(A), B), difference(difference(B, A), index(1, B)))\n",
      "Calculating monotonicity for:  subset_eq(index(cardinality(A), B), index(1, union(A, B)))\n",
      "Calculating monotonicity for:  subset_eq(index(cardinality(A), B), index(1, difference(B, A)))\n",
      "Calculating monotonicity for:  subset_eq(index(cardinality(A), B), index(cardinality(A), difference(B, A)))\n",
      "Calculating monotonicity for:  subset_eq(index(cardinality(B), A), union(B, index(1, A)))\n",
      "Calculating monotonicity for:  subset_eq(index(cardinality(B), A), intersection(B, index(1, A)))\n",
      "Calculating monotonicity for:  subset_eq(index(cardinality(B), A), difference(index(1, A), B))\n",
      "Calculating monotonicity for:  subset_eq(index(cardinality(B), A), difference(difference(A, B), index(1, A)))\n",
      "Calculating monotonicity for:  subset_eq(index(cardinality(B), A), index(1, union(A, B)))\n",
      "Calculating monotonicity for:  subset_eq(index(cardinality(B), A), index(1, difference(A, B)))\n",
      "Calculating monotonicity for:  subset_eq(index(cardinality(B), A), index(cardinality(B), difference(A, B)))\n",
      "Calculating monotonicity for:  subset_eq(index(cardinality(A), difference(B, A)), difference(difference(B, A), index(1, B)))\n",
      "Calculating monotonicity for:  subset_eq(index(cardinality(A), difference(B, A)), index(1, union(A, B)))\n",
      "Calculating monotonicity for:  subset_eq(index(cardinality(B), difference(A, B)), difference(difference(A, B), index(1, A)))\n",
      "Calculating monotonicity for:  subset_eq(index(cardinality(B), difference(A, B)), index(1, union(A, B)))\n",
      "Calculating monotonicity for:  equals(1, cardinality(union(A, B)))\n",
      "Calculating monotonicity for:  equals(1, cardinality(intersection(A, B)))\n",
      "Calculating monotonicity for:  equals(1, cardinality(difference(A, B)))\n",
      "Calculating monotonicity for:  equals(1, cardinality(difference(B, A)))\n",
      "Calculating monotonicity for:  equals(cardinality(A), cardinality(difference(B, A)))\n",
      "Calculating monotonicity for:  equals(cardinality(A), cardinality(index(1, B)))\n",
      "Calculating monotonicity for:  equals(cardinality(B), cardinality(difference(A, B)))\n",
      "Calculating monotonicity for:  equals(cardinality(B), cardinality(index(1, A)))\n",
      "Calculating monotonicity for:  equals(cardinality(intersection(A, B)), cardinality(difference(A, B)))\n",
      "Calculating monotonicity for:  equals(cardinality(intersection(A, B)), cardinality(difference(B, A)))\n",
      "Calculating monotonicity for:  equals(cardinality(intersection(A, B)), cardinality(index(1, A)))\n",
      "Calculating monotonicity for:  equals(cardinality(intersection(A, B)), cardinality(index(1, B)))\n",
      "Calculating monotonicity for:  equals(cardinality(difference(A, B)), cardinality(index(1, A)))\n",
      "Calculating monotonicity for:  equals(cardinality(difference(A, B)), cardinality(index(1, B)))\n",
      "Calculating monotonicity for:  equals(cardinality(difference(B, A)), cardinality(index(1, A)))\n",
      "Calculating monotonicity for:  equals(cardinality(difference(B, A)), cardinality(index(1, B)))\n",
      "Calculating monotonicity for:  equals(cardinality(index(1, A)), cardinality(index(1, B)))\n",
      "Calculating monotonicity for:  greater_than(cardinality(A), cardinality(difference(B, A)))\n",
      "Calculating monotonicity for:  greater_than(cardinality(A), cardinality(index(1, B)))\n",
      "Calculating monotonicity for:  greater_than(cardinality(B), cardinality(difference(A, B)))\n",
      "Calculating monotonicity for:  greater_than(cardinality(B), cardinality(index(1, A)))\n",
      "Calculating monotonicity for:  greater_than(cardinality(union(A, B)), 1)\n",
      "Calculating monotonicity for:  greater_than(cardinality(intersection(A, B)), 1)\n",
      "Calculating monotonicity for:  greater_than(cardinality(difference(A, B)), 1)\n",
      "Calculating monotonicity for:  greater_than(cardinality(difference(B, A)), 1)\n",
      "Calculating monotonicity for:  greater_than(cardinality(difference(A, B)), cardinality(B))\n",
      "Calculating monotonicity for:  greater_than(cardinality(difference(B, A)), cardinality(A))\n",
      "Calculating monotonicity for:  greater_than(cardinality(intersection(A, B)), cardinality(difference(A, B)))\n",
      "Calculating monotonicity for:  greater_than(cardinality(intersection(A, B)), cardinality(difference(B, A)))\n",
      "Calculating monotonicity for:  greater_than(cardinality(difference(A, B)), cardinality(intersection(A, B)))\n",
      "Calculating monotonicity for:  greater_than(cardinality(difference(B, A)), cardinality(intersection(A, B)))\n"
     ]
    }
   ],
   "source": [
    "mm = MonotonicityMeasurer(quantifiers_universe, down=False)\n",
    "mm(expressions)"
   ]
  },
  {
   "cell_type": "markdown",
   "metadata": {},
   "source": [
    "Print the values of monotonicity for each expression to a file."
   ]
  },
  {
   "cell_type": "code",
   "execution_count": 50,
   "metadata": {},
   "outputs": [],
   "source": [
    "import csv\n",
    "\n",
    "sorted_monotonicity = sorted(mm.metrics.items(), key=lambda x: x[1][\"monotonicity\"], reverse=True)\n",
    "\n",
    "with open(\"monotonicity.csv\", \"w\", newline='') as file:\n",
    "    writer = csv.writer(file)\n",
    "    for key, value in sorted_monotonicity:\n",
    "        writer.writerow([key, *value.values()])\n"
   ]
  },
  {
   "cell_type": "markdown",
   "metadata": {},
   "source": [
    "Let's calculate monotonicity of only a subset of generated expressions."
   ]
  },
  {
   "cell_type": "code",
   "execution_count": 104,
   "metadata": {},
   "outputs": [],
   "source": [
    "def filter_expressions_by_rules(rules: list, expressions):\n",
    "    return list(filter(lambda x: str(x) in rules, expressions))\n"
   ]
  },
  {
   "cell_type": "code",
   "execution_count": 109,
   "metadata": {},
   "outputs": [],
   "source": [
    "subset_of_expressions = filter_expressions_by_rules([\"subset_eq(A, A)\",\n",
    "                                                     'subset_eq(A, B)' ], expressions)"
   ]
  },
  {
   "cell_type": "code",
   "execution_count": 110,
   "metadata": {},
   "outputs": [
    {
     "name": "stdout",
     "output_type": "stream",
     "text": [
      "Calculating monotonicity for:  subset_eq(A, A)\n",
      "Calculating monotonicity for:  subset_eq(A, B)\n"
     ]
    },
    {
     "name": "stderr",
     "output_type": "stream",
     "text": [
      "/Users/Chris/Documents/UWLing/altk/src/examples/learn_quant/measures.py:176: RuntimeWarning: divide by zero encountered in log2\n",
      "  nopred_logs = np.log2([noq_nopred, q_nopred] / p_nopred)\n"
     ]
    }
   ],
   "source": [
    "mm(subset_of_expressions)"
   ]
  },
  {
   "cell_type": "code",
   "execution_count": 108,
   "metadata": {},
   "outputs": [
    {
     "data": {
      "text/plain": [
       "{'subset_eq(A, A)': {'monotonicity': 1},\n",
       " 'subset_eq(A, B)': {'monotonicity': 0.020055189603353396}}"
      ]
     },
     "execution_count": 108,
     "metadata": {},
     "output_type": "execute_result"
    }
   ],
   "source": [
    "mm.metrics"
   ]
  },
  {
   "cell_type": "code",
   "execution_count": null,
   "metadata": {},
   "outputs": [],
   "source": []
  }
 ],
 "metadata": {
  "kernelspec": {
   "display_name": "altk",
   "language": "python",
   "name": "python3"
  },
  "language_info": {
   "codemirror_mode": {
    "name": "ipython",
    "version": 3
   },
   "file_extension": ".py",
   "mimetype": "text/x-python",
   "name": "python",
   "nbconvert_exporter": "python",
   "pygments_lexer": "ipython3",
   "version": "3.11.6"
  },
  "orig_nbformat": 4
 },
 "nbformat": 4,
 "nbformat_minor": 2
}
