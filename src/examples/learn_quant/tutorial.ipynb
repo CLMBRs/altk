{
 "cells": [
  {
   "cell_type": "code",
   "execution_count": 10,
   "metadata": {},
   "outputs": [
    {
     "name": "stdout",
     "output_type": "stream",
     "text": [
      "/Users/Chris/Documents/UWLing/altk/src/examples\n"
     ]
    }
   ],
   "source": [
    "%cd examples"
   ]
  },
  {
   "cell_type": "code",
   "execution_count": 11,
   "metadata": {},
   "outputs": [],
   "source": [
    "from learn_quant.meaning import create_universe\n",
    "from learn_quant.util import read_expressions\n",
    "\n",
    "import numpy as np\n",
    "\n",
    "from learn_quant.measures_vectorized import MonotonicityMeasurer"
   ]
  },
  {
   "cell_type": "markdown",
   "metadata": {},
   "source": [
    "## Introduction\n",
    "\n",
    " First, let's familiarize ourselves with the classes used in this example, which are subclasses from classes in the ALTK package."
   ]
  },
  {
   "cell_type": "markdown",
   "metadata": {},
   "source": [
    "### QuantifierModel\n",
    "\n",
    "In this example, we'd like to create a large number of quantifiers that are modeled by the class `QuantifierModel`. As stated in the `meaning` module, a `QuantifierModel`, every quantifier model is a triple ** <M, A, B> **, where M corresponds to all possible quantifier referents for a given communicative situation, A and B are differents sets of quantifier referents that correspond to the items of comparison in quantificational logic.\n",
    "\n",
    "Let's begin by creating a simple QuantifierModel object. A QuantifierModel is initialized by defining a sequence of symbols that denote the set composition of each of `M`, `A`, and `B`. \n",
    "\n",
    "The definitions for each symbol are as follows:\n",
    "\n",
    "`0 => in A`\n",
    "\n",
    "`1 => in B`\n",
    "\n",
    "`2 => in (A | B)`\n",
    "\n",
    "`3 => in M - (A | B)`\n",
    "\n",
    "`4 => not in (M | A | B)`\n"
   ]
  },
  {
   "cell_type": "code",
   "execution_count": 13,
   "metadata": {},
   "outputs": [],
   "source": [
    "from learn_quant.quantifier import QuantifierModel\n",
    "\n",
    "qm = QuantifierModel(\"10123221\")"
   ]
  },
  {
   "cell_type": "code",
   "execution_count": 16,
   "metadata": {},
   "outputs": [
    {
     "data": {
      "text/plain": [
       "QuantifierModel(name='10123221', M=frozenset({0, 1, 2, 3, 4, 5, 6, 7}), A=frozenset({1, 3, 5, 6}), B=frozenset({0, 2, 3, 5, 6, 7}))"
      ]
     },
     "execution_count": 16,
     "metadata": {},
     "output_type": "execute_result"
    }
   ],
   "source": [
    "qm"
   ]
  },
  {
   "cell_type": "markdown",
   "metadata": {},
   "source": [
    "Notice that all sets are typed as `frozenset`s, as this allows for hashing and checking of QuantifierModels in Meaning objects that is required for subsequent routines. "
   ]
  },
  {
   "cell_type": "markdown",
   "metadata": {},
   "source": [
    "### Importing a `QuantifierGrammar`\n",
    "\n",
    "A QuantifierGrammar is a regular Grammar object, but allows for primitives representing integers to be added after a basic grammar has been loaded. This allows for integer primitives to be created on the fly during experiments of certain lengths (you usually would want to allow for primitives up until the length of the size of M, or all referents that are \"in play\"). "
   ]
  },
  {
   "cell_type": "code",
   "execution_count": 23,
   "metadata": {},
   "outputs": [],
   "source": [
    "from learn_quant.grammar import quantifiers_grammar"
   ]
  },
  {
   "cell_type": "markdown",
   "metadata": {},
   "source": [
    "You can iterate through the grammar to see what rules it contains:"
   ]
  },
  {
   "cell_type": "code",
   "execution_count": 37,
   "metadata": {},
   "outputs": [
    {
     "name": "stdout",
     "output_type": "stream",
     "text": [
      "and : bool -> and(bool, bool)\n",
      "or : bool -> or(bool, bool)\n",
      "not : bool -> not(bool)\n",
      "union : frozenset -> union(frozenset, frozenset)\n",
      "intersection : frozenset -> intersection(frozenset, frozenset)\n",
      "difference : frozenset -> difference(frozenset, frozenset)\n",
      "index : frozenset -> index(int, frozenset)\n",
      "cardinality : int -> cardinality(frozenset)\n",
      "subset_eq : bool -> subset_eq(frozenset, frozenset)\n",
      "equals : bool -> equals(int, int)\n",
      "greater_than : bool -> greater_than(int, int)\n",
      "A : frozenset -> A\n",
      "B : frozenset -> B\n"
     ]
    }
   ],
   "source": [
    "for rule in quantifiers_grammar:\n",
    "    print(rule[0], \":\", rule[1])"
   ]
  },
  {
   "cell_type": "markdown",
   "metadata": {},
   "source": [
    "To add primitives for integer indices, use the `add_indices_as_primitives` method on the `QuantifierGrammar` object by specifying either specific indices in a list, or an integer upper bound up until which primitive rules should be added:"
   ]
  },
  {
   "cell_type": "code",
   "execution_count": 39,
   "metadata": {},
   "outputs": [
    {
     "name": "stdout",
     "output_type": "stream",
     "text": [
      "and : bool -> and(bool, bool)\n",
      "or : bool -> or(bool, bool)\n",
      "not : bool -> not(bool)\n",
      "union : frozenset -> union(frozenset, frozenset)\n",
      "intersection : frozenset -> intersection(frozenset, frozenset)\n",
      "difference : frozenset -> difference(frozenset, frozenset)\n",
      "index : frozenset -> index(int, frozenset)\n",
      "cardinality : int -> cardinality(frozenset)\n",
      "subset_eq : bool -> subset_eq(frozenset, frozenset)\n",
      "equals : bool -> equals(int, int)\n",
      "greater_than : bool -> greater_than(int, int)\n",
      "A : frozenset -> A\n",
      "B : frozenset -> B\n",
      "0 : int -> 0\n",
      "1 : int -> 1\n",
      "3 : int -> 3\n",
      "4 : int -> 4\n",
      "8 : int -> 8\n",
      "9 : int -> 9\n"
     ]
    }
   ],
   "source": [
    "from copy import deepcopy\n",
    "new_grammar = deepcopy(quantifiers_grammar)\n",
    "new_grammar.add_indices_as_primitives([\"0\", \"1\", \"3\", \"4\", \"8\", \"9\"], 2.0)\n",
    "for rule in new_grammar:\n",
    "    print(rule[0], \":\", rule[1])"
   ]
  },
  {
   "cell_type": "code",
   "execution_count": 56,
   "metadata": {},
   "outputs": [
    {
     "name": "stdout",
     "output_type": "stream",
     "text": [
      "and : bool -> and(bool, bool)\n",
      "or : bool -> or(bool, bool)\n",
      "not : bool -> not(bool)\n",
      "union : frozenset -> union(frozenset, frozenset)\n",
      "intersection : frozenset -> intersection(frozenset, frozenset)\n",
      "difference : frozenset -> difference(frozenset, frozenset)\n",
      "index : frozenset -> index(int, frozenset)\n",
      "cardinality : int -> cardinality(frozenset)\n",
      "subset_eq : bool -> subset_eq(frozenset, frozenset)\n",
      "equals : bool -> equals(int, int)\n",
      "greater_than : bool -> greater_than(int, int)\n",
      "A : frozenset -> A\n",
      "B : frozenset -> B\n",
      "0 : int -> 0\n",
      "1 : int -> 1\n",
      "2 : int -> 2\n",
      "3 : int -> 3\n",
      "4 : int -> 4\n"
     ]
    }
   ],
   "source": [
    "new_grammar = deepcopy(quantifiers_grammar)\n",
    "new_grammar.add_indices_as_primitives(4, 2.0)\n",
    "for rule in new_grammar:\n",
    "    print(rule[0], \":\", rule[1])"
   ]
  },
  {
   "cell_type": "markdown",
   "metadata": {},
   "source": [
    "The second argument defines a default weight to add to the integer primitives rules that are relevant when generating a universe with a `Grammar`."
   ]
  },
  {
   "cell_type": "code",
   "execution_count": 54,
   "metadata": {},
   "outputs": [
    {
     "name": "stdout",
     "output_type": "stream",
     "text": [
      "and :\t\t 1.0\n",
      "or :\t\t 1.0\n",
      "not :\t\t 1.0\n",
      "union :\t\t 1.0\n",
      "intersection :\t\t 1.0\n",
      "difference :\t\t 1.0\n",
      "index :\t\t 1.0\n",
      "cardinality :\t\t 1.0\n",
      "subset_eq :\t\t 1.0\n",
      "equals :\t\t 1.0\n",
      "greater_than :\t\t 1.0\n",
      "A :\t\t 10.0\n",
      "B :\t\t 10.0\n",
      "0 :\t\t 2.0\n",
      "1 :\t\t 2.0\n",
      "2 :\t\t 2.0\n",
      "3 :\t\t 2.0\n"
     ]
    }
   ],
   "source": [
    "for rule in new_grammar:\n",
    "    print(rule[1].name, \":\\t\\t\", rule[1].weight)"
   ]
  },
  {
   "cell_type": "markdown",
   "metadata": {},
   "source": [
    "### Define a universe of referents.\n",
    "\n",
    "In this example, the function \"create_universe\" creates QuantifierModels, "
   ]
  },
  {
   "cell_type": "code",
   "execution_count": 60,
   "metadata": {},
   "outputs": [],
   "source": [
    "\n",
    "quantifiers_universe = create_universe(M_SIZE=3,X_SIZE=4)"
   ]
  },
  {
   "cell_type": "markdown",
   "metadata": {},
   "source": [
    "We created a universe with the number of indices in generated `QuantifierModel`s having 4 indices total, with up to 3 of those indices being considered for pertinence in A or B during the generative process. Therefor, in this example, `['1', '2', '0', '0']` would not be valid, since `M_SIZE` is only 3 and not 4. On the other hand, `['4', '2', '0', '0']` is OK, since the first index is in `X` but not `M`.\n",
    "\n",
    "Let's enumerate expressions that could be created with the Language of Thought described in the `QuantifierGrammar` we have previously defined.\n",
    "\n",
    "We'll enumerate expressions up to a depth of 4. Higher depth values allow for more complex expressions that depend on a greater number of rules."
   ]
  },
  {
   "cell_type": "code",
   "execution_count": 61,
   "metadata": {},
   "outputs": [],
   "source": [
    "from learn_quant.scripts.generate_expressions import enumerate_quantifiers\n",
    "expressions_by_meaning = enumerate_quantifiers(4, quantifiers_universe, quantifiers_grammar)"
   ]
  },
  {
   "cell_type": "code",
   "execution_count": 63,
   "metadata": {},
   "outputs": [
    {
     "name": "stdout",
     "output_type": "stream",
     "text": [
      "The size of the universe is 256\n"
     ]
    }
   ],
   "source": [
    "print(\"The size of the universe is {}\".format(len(quantifiers_universe)))"
   ]
  },
  {
   "cell_type": "markdown",
   "metadata": {},
   "source": [
    "Access the referents by refering to the `referents` property of the `QuantifierUniverse` object"
   ]
  },
  {
   "cell_type": "code",
   "execution_count": 67,
   "metadata": {},
   "outputs": [
    {
     "data": {
      "text/plain": [
       "[QuantifierModel(name='4031', M=frozenset({1, 2, 3}), A=frozenset({1}), B=frozenset({3})),\n",
       " QuantifierModel(name='1242', M=frozenset({0, 1, 3}), A=frozenset({1, 3}), B=frozenset({0, 1, 3})),\n",
       " QuantifierModel(name='4023', M=frozenset({1, 2, 3}), A=frozenset({1, 2}), B=frozenset({2})),\n",
       " QuantifierModel(name='1410', M=frozenset({0, 2, 3}), A=frozenset({3}), B=frozenset({0, 2})),\n",
       " QuantifierModel(name='3241', M=frozenset({0, 1, 3}), A=frozenset({1}), B=frozenset({1, 3}))]"
      ]
     },
     "execution_count": 67,
     "metadata": {},
     "output_type": "execute_result"
    }
   ],
   "source": [
    "quantifiers_universe.referents[0:5]"
   ]
  },
  {
   "cell_type": "markdown",
   "metadata": {},
   "source": [
    "You can access sizes of `X` and `M` in the QuantifierUniverse object:"
   ]
  },
  {
   "cell_type": "code",
   "execution_count": 72,
   "metadata": {},
   "outputs": [
    {
     "name": "stdout",
     "output_type": "stream",
     "text": [
      "4\n",
      "3\n"
     ]
    }
   ],
   "source": [
    "print(quantifiers_universe.x_size)\n",
    "print(quantifiers_universe.m_size)"
   ]
  },
  {
   "cell_type": "code",
   "execution_count": null,
   "metadata": {},
   "outputs": [],
   "source": [
    "from learn_quant.scripts.generate_expressions import save_quantifiers\n"
   ]
  },
  {
   "cell_type": "code",
   "execution_count": null,
   "metadata": {},
   "outputs": [],
   "source": []
  }
 ],
 "metadata": {
  "kernelspec": {
   "display_name": "altk",
   "language": "python",
   "name": "python3"
  },
  "language_info": {
   "codemirror_mode": {
    "name": "ipython",
    "version": 3
   },
   "file_extension": ".py",
   "mimetype": "text/x-python",
   "name": "python",
   "nbconvert_exporter": "python",
   "pygments_lexer": "ipython3",
   "version": "3.11.6"
  },
  "orig_nbformat": 4
 },
 "nbformat": 4,
 "nbformat_minor": 2
}
